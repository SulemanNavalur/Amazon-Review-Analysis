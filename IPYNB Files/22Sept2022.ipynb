{
 "cells": [
  {
   "cell_type": "code",
   "execution_count": 1,
   "metadata": {},
   "outputs": [],
   "source": [
    "import pandas as pd"
   ]
  },
  {
   "cell_type": "markdown",
   "metadata": {},
   "source": [
    "# Loading the Data"
   ]
  },
  {
   "cell_type": "code",
   "execution_count": 2,
   "metadata": {},
   "outputs": [
    {
     "name": "stdout",
     "output_type": "stream",
     "text": [
      "CPU times: total: 609 ms\n",
      "Wall time: 645 ms\n"
     ]
    },
    {
     "data": {
      "text/html": [
       "<div>\n",
       "<style scoped>\n",
       "    .dataframe tbody tr th:only-of-type {\n",
       "        vertical-align: middle;\n",
       "    }\n",
       "\n",
       "    .dataframe tbody tr th {\n",
       "        vertical-align: top;\n",
       "    }\n",
       "\n",
       "    .dataframe thead th {\n",
       "        text-align: right;\n",
       "    }\n",
       "</style>\n",
       "<table border=\"1\" class=\"dataframe\">\n",
       "  <thead>\n",
       "    <tr style=\"text-align: right;\">\n",
       "      <th></th>\n",
       "      <th>marketplace</th>\n",
       "      <th>customer_id</th>\n",
       "      <th>review_id</th>\n",
       "      <th>product_id</th>\n",
       "      <th>product_parent</th>\n",
       "      <th>product_title</th>\n",
       "      <th>product_category</th>\n",
       "      <th>star_rating</th>\n",
       "      <th>helpful_votes</th>\n",
       "      <th>total_votes</th>\n",
       "      <th>vine</th>\n",
       "      <th>verified_purchase</th>\n",
       "      <th>review_headline</th>\n",
       "      <th>review_body</th>\n",
       "      <th>review_date</th>\n",
       "    </tr>\n",
       "  </thead>\n",
       "  <tbody>\n",
       "    <tr>\n",
       "      <th>0</th>\n",
       "      <td>US</td>\n",
       "      <td>24371595</td>\n",
       "      <td>R27ZP1F1CD0C3Y</td>\n",
       "      <td>B004LLIL5A</td>\n",
       "      <td>346014806</td>\n",
       "      <td>Amazon eGift Card - Celebrate</td>\n",
       "      <td>Gift Card</td>\n",
       "      <td>5</td>\n",
       "      <td>0</td>\n",
       "      <td>0</td>\n",
       "      <td>N</td>\n",
       "      <td>Y</td>\n",
       "      <td>Five Stars</td>\n",
       "      <td>Great birthday gift for a young adult.</td>\n",
       "      <td>2015-08-31</td>\n",
       "    </tr>\n",
       "    <tr>\n",
       "      <th>1</th>\n",
       "      <td>US</td>\n",
       "      <td>42489718</td>\n",
       "      <td>RJ7RSBCHUDNNE</td>\n",
       "      <td>B004LLIKVU</td>\n",
       "      <td>473048287</td>\n",
       "      <td>Amazon.com eGift Cards</td>\n",
       "      <td>Gift Card</td>\n",
       "      <td>5</td>\n",
       "      <td>0</td>\n",
       "      <td>0</td>\n",
       "      <td>N</td>\n",
       "      <td>Y</td>\n",
       "      <td>Gift card for the greatest selection of items ...</td>\n",
       "      <td>It's an Amazon gift card and with over 9823983...</td>\n",
       "      <td>2015-08-31</td>\n",
       "    </tr>\n",
       "    <tr>\n",
       "      <th>2</th>\n",
       "      <td>US</td>\n",
       "      <td>861463</td>\n",
       "      <td>R1HVYBSKLQJI5S</td>\n",
       "      <td>B00IX1I3G6</td>\n",
       "      <td>926539283</td>\n",
       "      <td>Amazon.com Gift Card Balance Reload</td>\n",
       "      <td>Gift Card</td>\n",
       "      <td>5</td>\n",
       "      <td>0</td>\n",
       "      <td>0</td>\n",
       "      <td>N</td>\n",
       "      <td>Y</td>\n",
       "      <td>Five Stars</td>\n",
       "      <td>Good</td>\n",
       "      <td>2015-08-31</td>\n",
       "    </tr>\n",
       "    <tr>\n",
       "      <th>3</th>\n",
       "      <td>US</td>\n",
       "      <td>25283295</td>\n",
       "      <td>R2HAXF0IIYQBIR</td>\n",
       "      <td>B00IX1I3G6</td>\n",
       "      <td>926539283</td>\n",
       "      <td>Amazon.com Gift Card Balance Reload</td>\n",
       "      <td>Gift Card</td>\n",
       "      <td>1</td>\n",
       "      <td>0</td>\n",
       "      <td>0</td>\n",
       "      <td>N</td>\n",
       "      <td>Y</td>\n",
       "      <td>One Star</td>\n",
       "      <td>Fair</td>\n",
       "      <td>2015-08-31</td>\n",
       "    </tr>\n",
       "    <tr>\n",
       "      <th>4</th>\n",
       "      <td>US</td>\n",
       "      <td>397970</td>\n",
       "      <td>RNYLPX611NB7Q</td>\n",
       "      <td>B005ESMGV4</td>\n",
       "      <td>379368939</td>\n",
       "      <td>Amazon.com Gift Cards, Pack of 3 (Various Desi...</td>\n",
       "      <td>Gift Card</td>\n",
       "      <td>5</td>\n",
       "      <td>0</td>\n",
       "      <td>0</td>\n",
       "      <td>N</td>\n",
       "      <td>Y</td>\n",
       "      <td>Five Stars</td>\n",
       "      <td>I can't believe how quickly Amazon can get the...</td>\n",
       "      <td>2015-08-31</td>\n",
       "    </tr>\n",
       "    <tr>\n",
       "      <th>...</th>\n",
       "      <td>...</td>\n",
       "      <td>...</td>\n",
       "      <td>...</td>\n",
       "      <td>...</td>\n",
       "      <td>...</td>\n",
       "      <td>...</td>\n",
       "      <td>...</td>\n",
       "      <td>...</td>\n",
       "      <td>...</td>\n",
       "      <td>...</td>\n",
       "      <td>...</td>\n",
       "      <td>...</td>\n",
       "      <td>...</td>\n",
       "      <td>...</td>\n",
       "      <td>...</td>\n",
       "    </tr>\n",
       "    <tr>\n",
       "      <th>148305</th>\n",
       "      <td>US</td>\n",
       "      <td>40383801</td>\n",
       "      <td>R57O26VBSLMP1</td>\n",
       "      <td>B0002CZPPG</td>\n",
       "      <td>867256265</td>\n",
       "      <td>Apple iTunes Prepaid Card ($15)</td>\n",
       "      <td>Gift Card</td>\n",
       "      <td>5</td>\n",
       "      <td>10</td>\n",
       "      <td>10</td>\n",
       "      <td>N</td>\n",
       "      <td>N</td>\n",
       "      <td>Way easier than explaining your musical taste ...</td>\n",
       "      <td>Finally there is a way for your family to buy ...</td>\n",
       "      <td>2005-01-21</td>\n",
       "    </tr>\n",
       "    <tr>\n",
       "      <th>148306</th>\n",
       "      <td>US</td>\n",
       "      <td>15124244</td>\n",
       "      <td>R375D634NGSSPI</td>\n",
       "      <td>B0002CZPPG</td>\n",
       "      <td>867256265</td>\n",
       "      <td>Apple iTunes Prepaid Card ($15)</td>\n",
       "      <td>Gift Card</td>\n",
       "      <td>4</td>\n",
       "      <td>8</td>\n",
       "      <td>44</td>\n",
       "      <td>N</td>\n",
       "      <td>N</td>\n",
       "      <td>itunes paid for</td>\n",
       "      <td>its very convenient to have an idea of how mut...</td>\n",
       "      <td>2004-12-17</td>\n",
       "    </tr>\n",
       "    <tr>\n",
       "      <th>148307</th>\n",
       "      <td>US</td>\n",
       "      <td>40383801</td>\n",
       "      <td>R2NCVKVC9B7I9C</td>\n",
       "      <td>B0002CZPPG</td>\n",
       "      <td>867256265</td>\n",
       "      <td>Apple iTunes Prepaid Card ($15)</td>\n",
       "      <td>Gift Card</td>\n",
       "      <td>5</td>\n",
       "      <td>20</td>\n",
       "      <td>30</td>\n",
       "      <td>N</td>\n",
       "      <td>N</td>\n",
       "      <td>Way easier than explaining your musical taste ...</td>\n",
       "      <td>Finally there is a way for your family to buy ...</td>\n",
       "      <td>2004-11-30</td>\n",
       "    </tr>\n",
       "    <tr>\n",
       "      <th>148308</th>\n",
       "      <td>US</td>\n",
       "      <td>30603398</td>\n",
       "      <td>RC2BIM4XKDCY4</td>\n",
       "      <td>B0002CZPPG</td>\n",
       "      <td>867256265</td>\n",
       "      <td>Apple iTunes Prepaid Card ($15)</td>\n",
       "      <td>Gift Card</td>\n",
       "      <td>4</td>\n",
       "      <td>63</td>\n",
       "      <td>72</td>\n",
       "      <td>N</td>\n",
       "      <td>N</td>\n",
       "      <td>A great way to turn cash into songs</td>\n",
       "      <td>I picked up a few of these at Target a while b...</td>\n",
       "      <td>2004-11-10</td>\n",
       "    </tr>\n",
       "    <tr>\n",
       "      <th>148309</th>\n",
       "      <td>US</td>\n",
       "      <td>16262996</td>\n",
       "      <td>RKOEI5NT6A7LL</td>\n",
       "      <td>B0002CZPPG</td>\n",
       "      <td>867256265</td>\n",
       "      <td>Apple iTunes Prepaid Card ($15)</td>\n",
       "      <td>Gift Card</td>\n",
       "      <td>5</td>\n",
       "      <td>26</td>\n",
       "      <td>29</td>\n",
       "      <td>N</td>\n",
       "      <td>N</td>\n",
       "      <td>iTunes Gift Card</td>\n",
       "      <td>This is the ultimate tool for downloading musi...</td>\n",
       "      <td>2004-10-14</td>\n",
       "    </tr>\n",
       "  </tbody>\n",
       "</table>\n",
       "<p>148310 rows × 15 columns</p>\n",
       "</div>"
      ],
      "text/plain": [
       "       marketplace  customer_id       review_id  product_id  product_parent  \\\n",
       "0               US     24371595  R27ZP1F1CD0C3Y  B004LLIL5A       346014806   \n",
       "1               US     42489718   RJ7RSBCHUDNNE  B004LLIKVU       473048287   \n",
       "2               US       861463  R1HVYBSKLQJI5S  B00IX1I3G6       926539283   \n",
       "3               US     25283295  R2HAXF0IIYQBIR  B00IX1I3G6       926539283   \n",
       "4               US       397970   RNYLPX611NB7Q  B005ESMGV4       379368939   \n",
       "...            ...          ...             ...         ...             ...   \n",
       "148305          US     40383801   R57O26VBSLMP1  B0002CZPPG       867256265   \n",
       "148306          US     15124244  R375D634NGSSPI  B0002CZPPG       867256265   \n",
       "148307          US     40383801  R2NCVKVC9B7I9C  B0002CZPPG       867256265   \n",
       "148308          US     30603398   RC2BIM4XKDCY4  B0002CZPPG       867256265   \n",
       "148309          US     16262996   RKOEI5NT6A7LL  B0002CZPPG       867256265   \n",
       "\n",
       "                                            product_title product_category  \\\n",
       "0                           Amazon eGift Card - Celebrate        Gift Card   \n",
       "1                                  Amazon.com eGift Cards        Gift Card   \n",
       "2                     Amazon.com Gift Card Balance Reload        Gift Card   \n",
       "3                     Amazon.com Gift Card Balance Reload        Gift Card   \n",
       "4       Amazon.com Gift Cards, Pack of 3 (Various Desi...        Gift Card   \n",
       "...                                                   ...              ...   \n",
       "148305                    Apple iTunes Prepaid Card ($15)        Gift Card   \n",
       "148306                    Apple iTunes Prepaid Card ($15)        Gift Card   \n",
       "148307                    Apple iTunes Prepaid Card ($15)        Gift Card   \n",
       "148308                    Apple iTunes Prepaid Card ($15)        Gift Card   \n",
       "148309                    Apple iTunes Prepaid Card ($15)        Gift Card   \n",
       "\n",
       "        star_rating  helpful_votes  total_votes vine verified_purchase  \\\n",
       "0                 5              0            0    N                 Y   \n",
       "1                 5              0            0    N                 Y   \n",
       "2                 5              0            0    N                 Y   \n",
       "3                 1              0            0    N                 Y   \n",
       "4                 5              0            0    N                 Y   \n",
       "...             ...            ...          ...  ...               ...   \n",
       "148305            5             10           10    N                 N   \n",
       "148306            4              8           44    N                 N   \n",
       "148307            5             20           30    N                 N   \n",
       "148308            4             63           72    N                 N   \n",
       "148309            5             26           29    N                 N   \n",
       "\n",
       "                                          review_headline  \\\n",
       "0                                              Five Stars   \n",
       "1       Gift card for the greatest selection of items ...   \n",
       "2                                              Five Stars   \n",
       "3                                                One Star   \n",
       "4                                              Five Stars   \n",
       "...                                                   ...   \n",
       "148305  Way easier than explaining your musical taste ...   \n",
       "148306                                    itunes paid for   \n",
       "148307  Way easier than explaining your musical taste ...   \n",
       "148308                A great way to turn cash into songs   \n",
       "148309                                   iTunes Gift Card   \n",
       "\n",
       "                                              review_body review_date  \n",
       "0                  Great birthday gift for a young adult.  2015-08-31  \n",
       "1       It's an Amazon gift card and with over 9823983...  2015-08-31  \n",
       "2                                                    Good  2015-08-31  \n",
       "3                                                    Fair  2015-08-31  \n",
       "4       I can't believe how quickly Amazon can get the...  2015-08-31  \n",
       "...                                                   ...         ...  \n",
       "148305  Finally there is a way for your family to buy ...  2005-01-21  \n",
       "148306  its very convenient to have an idea of how mut...  2004-12-17  \n",
       "148307  Finally there is a way for your family to buy ...  2004-11-30  \n",
       "148308  I picked up a few of these at Target a while b...  2004-11-10  \n",
       "148309  This is the ultimate tool for downloading musi...  2004-10-14  \n",
       "\n",
       "[148310 rows x 15 columns]"
      ]
     },
     "execution_count": 2,
     "metadata": {},
     "output_type": "execute_result"
    }
   ],
   "source": [
    "%%time\n",
    "df=pd.read_csv('D:/BDA Project/amazon_reviews_us_Gift_Card_v1_00.tsv', sep='\\t')\n",
    "\n",
    "df"
   ]
  },
  {
   "cell_type": "code",
   "execution_count": 3,
   "metadata": {},
   "outputs": [
    {
     "data": {
      "text/plain": [
       "Index(['marketplace', 'customer_id', 'review_id', 'product_id',\n",
       "       'product_parent', 'product_title', 'product_category', 'star_rating',\n",
       "       'helpful_votes', 'total_votes', 'vine', 'verified_purchase',\n",
       "       'review_headline', 'review_body', 'review_date'],\n",
       "      dtype='object')"
      ]
     },
     "execution_count": 3,
     "metadata": {},
     "output_type": "execute_result"
    }
   ],
   "source": [
    "df.columns"
   ]
  },
  {
   "cell_type": "code",
   "execution_count": 4,
   "metadata": {},
   "outputs": [
    {
     "data": {
      "text/plain": [
       "marketplace          148310\n",
       "customer_id          148310\n",
       "review_id            148310\n",
       "product_id           148310\n",
       "product_parent       148310\n",
       "product_title        148310\n",
       "product_category     148310\n",
       "star_rating          148310\n",
       "helpful_votes        148310\n",
       "total_votes          148310\n",
       "vine                 148310\n",
       "verified_purchase    148310\n",
       "review_headline      148307\n",
       "review_body          148308\n",
       "review_date          148309\n",
       "dtype: int64"
      ]
     },
     "execution_count": 4,
     "metadata": {},
     "output_type": "execute_result"
    }
   ],
   "source": [
    "df.count()"
   ]
  },
  {
   "cell_type": "code",
   "execution_count": 5,
   "metadata": {},
   "outputs": [
    {
     "data": {
      "text/plain": [
       "marketplace          148310\n",
       "customer_id          148310\n",
       "review_id            148310\n",
       "product_id           148310\n",
       "product_parent       148310\n",
       "product_title        148310\n",
       "product_category     148310\n",
       "star_rating          148310\n",
       "helpful_votes        148310\n",
       "total_votes          148310\n",
       "vine                 148310\n",
       "verified_purchase    148310\n",
       "review_headline      148307\n",
       "review_body          148308\n",
       "review_date          148309\n",
       "dtype: int64"
      ]
     },
     "execution_count": 5,
     "metadata": {},
     "output_type": "execute_result"
    }
   ],
   "source": [
    "df.dropna()\n",
    "df.count()"
   ]
  },
  {
   "cell_type": "code",
   "execution_count": 6,
   "metadata": {},
   "outputs": [
    {
     "data": {
      "text/plain": [
       "(148310, 15)"
      ]
     },
     "execution_count": 6,
     "metadata": {},
     "output_type": "execute_result"
    }
   ],
   "source": [
    "df.shape"
   ]
  },
  {
   "cell_type": "code",
   "execution_count": 7,
   "metadata": {},
   "outputs": [
    {
     "data": {
      "text/plain": [
       "marketplace          object\n",
       "customer_id           int64\n",
       "review_id            object\n",
       "product_id           object\n",
       "product_parent        int64\n",
       "product_title        object\n",
       "product_category     object\n",
       "star_rating           int64\n",
       "helpful_votes         int64\n",
       "total_votes           int64\n",
       "vine                 object\n",
       "verified_purchase    object\n",
       "review_headline      object\n",
       "review_body          object\n",
       "review_date          object\n",
       "dtype: object"
      ]
     },
     "execution_count": 7,
     "metadata": {},
     "output_type": "execute_result"
    }
   ],
   "source": [
    "df.dtypes"
   ]
  },
  {
   "cell_type": "code",
   "execution_count": 8,
   "metadata": {},
   "outputs": [],
   "source": [
    "import seaborn as sns\n",
    "import matplotlib.pyplot as plt\n",
    "%matplotlib inline"
   ]
  },
  {
   "cell_type": "code",
   "execution_count": 9,
   "metadata": {},
   "outputs": [
    {
     "data": {
      "text/plain": [
       "marketplace          0\n",
       "customer_id          0\n",
       "review_id            0\n",
       "product_id           0\n",
       "product_parent       0\n",
       "product_title        0\n",
       "product_category     0\n",
       "star_rating          0\n",
       "helpful_votes        0\n",
       "total_votes          0\n",
       "vine                 0\n",
       "verified_purchase    0\n",
       "review_headline      3\n",
       "review_body          2\n",
       "review_date          1\n",
       "dtype: int64"
      ]
     },
     "execution_count": 9,
     "metadata": {},
     "output_type": "execute_result"
    }
   ],
   "source": [
    "df.isna().sum()"
   ]
  },
  {
   "cell_type": "markdown",
   "metadata": {},
   "source": [
    "# Visualizing"
   ]
  },
  {
   "cell_type": "code",
   "execution_count": 10,
   "metadata": {},
   "outputs": [],
   "source": [
    "def cat_count(col):\n",
    "    count = df[col].value_counts()\n",
    "    return count"
   ]
  },
  {
   "cell_type": "code",
   "execution_count": 11,
   "metadata": {},
   "outputs": [
    {
     "data": {
      "image/png": "[encoded data removed]",
      "text/plain": [
       "<Figure size 640x480 with 1 Axes>"
      ]
     },
     "metadata": {},
     "output_type": "display_data"
    },
    {
     "name": "stdout",
     "output_type": "stream",
     "text": [
      "CPU times: total: 109 ms\n",
      "Wall time: 134 ms\n"
     ]
    }
   ],
   "source": [
    "%%time\n",
    "sns.countplot(x='marketplace', data=df)\n",
    "plt.title('Market Place')\n",
    "plt.show()"
   ]
  },
  {
   "cell_type": "code",
   "execution_count": 12,
   "metadata": {},
   "outputs": [
    {
     "data": {
      "text/plain": [
       "US    148310\n",
       "Name: marketplace, dtype: int64"
      ]
     },
     "execution_count": 12,
     "metadata": {},
     "output_type": "execute_result"
    }
   ],
   "source": [
    "cat_count('marketplace')"
   ]
  },
  {
   "cell_type": "code",
   "execution_count": 13,
   "metadata": {},
   "outputs": [
    {
     "data": {
      "image/png": "[encoded data removed]",
      "text/plain": [
       "<Figure size 640x480 with 1 Axes>"
      ]
     },
     "metadata": {},
     "output_type": "display_data"
    },
    {
     "name": "stdout",
     "output_type": "stream",
     "text": [
      "CPU times: total: 93.8 ms\n",
      "Wall time: 104 ms\n"
     ]
    }
   ],
   "source": [
    "%%time\n",
    "sns.countplot(x='product_category', data=df)\n",
    "plt.title('Product Title')\n",
    "plt.show()"
   ]
  },
  {
   "cell_type": "code",
   "execution_count": 14,
   "metadata": {},
   "outputs": [
    {
     "data": {
      "text/plain": [
       "Gift Card    148310\n",
       "Name: product_category, dtype: int64"
      ]
     },
     "execution_count": 14,
     "metadata": {},
     "output_type": "execute_result"
    }
   ],
   "source": [
    "cat_count('product_category')"
   ]
  },
  {
   "cell_type": "code",
   "execution_count": 15,
   "metadata": {},
   "outputs": [
    {
     "data": {
      "image/png": "[encoded data removed]",
      "text/plain": [
       "<Figure size 640x480 with 1 Axes>"
      ]
     },
     "metadata": {},
     "output_type": "display_data"
    },
    {
     "name": "stdout",
     "output_type": "stream",
     "text": [
      "CPU times: total: 93.8 ms\n",
      "Wall time: 87.6 ms\n"
     ]
    }
   ],
   "source": [
    "%%time\n",
    "sns.countplot(x='star_rating', data=df)\n",
    "plt.title('Rating')\n",
    "plt.show()"
   ]
  },
  {
   "cell_type": "code",
   "execution_count": 16,
   "metadata": {},
   "outputs": [
    {
     "data": {
      "text/plain": [
       "5    129029\n",
       "4      9808\n",
       "1      4766\n",
       "3      3147\n",
       "2      1560\n",
       "Name: star_rating, dtype: int64"
      ]
     },
     "execution_count": 16,
     "metadata": {},
     "output_type": "execute_result"
    }
   ],
   "source": [
    "cat_count('star_rating')"
   ]
  },
  {
   "cell_type": "code",
   "execution_count": 17,
   "metadata": {},
   "outputs": [
    {
     "data": {
      "image/png": "[encoded data removed]",
      "text/plain": [
       "<Figure size 640x480 with 1 Axes>"
      ]
     },
     "metadata": {},
     "output_type": "display_data"
    },
    {
     "name": "stdout",
     "output_type": "stream",
     "text": [
      "CPU times: total: 125 ms\n",
      "Wall time: 122 ms\n"
     ]
    }
   ],
   "source": [
    "%%time\n",
    "sns.countplot(x='verified_purchase', data=df)\n",
    "plt.title('Purchase Verification')\n",
    "plt.show()"
   ]
  },
  {
   "cell_type": "code",
   "execution_count": 18,
   "metadata": {},
   "outputs": [
    {
     "data": {
      "text/plain": [
       "Y    135289\n",
       "N     13021\n",
       "Name: verified_purchase, dtype: int64"
      ]
     },
     "execution_count": 18,
     "metadata": {},
     "output_type": "execute_result"
    }
   ],
   "source": [
    "cat_count('verified_purchase')"
   ]
  },
  {
   "cell_type": "code",
   "execution_count": 21,
   "metadata": {},
   "outputs": [
    {
     "data": {
      "image/png": "[encoded data removed]",
      "text/plain": [
       "<Figure size 1500x500 with 1 Axes>"
      ]
     },
     "metadata": {},
     "output_type": "display_data"
    },
    {
     "name": "stdout",
     "output_type": "stream",
     "text": [
      "CPU times: total: 7.34 s\n",
      "Wall time: 7.41 s\n"
     ]
    }
   ],
   "source": [
    "%%time\n",
    "sns.countplot(x='review_date',data=df)\n",
    "plt.title('Review Date Counts')\n",
    "fig = plt.gcf()\n",
    "fig.set_size_inches( 15, 5)\n",
    "plt.show()"
   ]
  },
  {
   "cell_type": "code",
   "execution_count": 27,
   "metadata": {},
   "outputs": [
    {
     "data": {
      "text/plain": [
       "2012-01-28    2107\n",
       "2012-01-27    1870\n",
       "2012-06-02     764\n",
       "2012-01-29     667\n",
       "2015-01-25     644\n",
       "              ... \n",
       "2009-10-16       1\n",
       "2009-09-25       1\n",
       "2009-09-21       1\n",
       "2009-09-18       1\n",
       "2004-10-14       1\n",
       "Name: review_date, Length: 2014, dtype: int64"
      ]
     },
     "execution_count": 27,
     "metadata": {},
     "output_type": "execute_result"
    }
   ],
   "source": [
    "cat_count('review_date')"
   ]
  },
  {
   "cell_type": "code",
   "execution_count": 26,
   "metadata": {},
   "outputs": [
    {
     "data": {
      "image/png": "[encoded data removed]",
      "text/plain": [
       "<Figure size 1500x500 with 1 Axes>"
      ]
     },
     "metadata": {},
     "output_type": "display_data"
    },
    {
     "name": "stdout",
     "output_type": "stream",
     "text": [
      "CPU times: total: 109 ms\n",
      "Wall time: 119 ms\n"
     ]
    }
   ],
   "source": [
    "%%time\n",
    "sns.countplot(x='marketplace',data=df)\n",
    "plt.title('Verifir Counts')\n",
    "fig = plt.gcf()\n",
    "fig.set_size_inches( 15, 5)\n",
    "plt.show()"
   ]
  },
  {
   "cell_type": "code",
   "execution_count": 28,
   "metadata": {},
   "outputs": [
    {
     "data": {
      "text/plain": [
       "US    148310\n",
       "Name: marketplace, dtype: int64"
      ]
     },
     "execution_count": 28,
     "metadata": {},
     "output_type": "execute_result"
    }
   ],
   "source": [
    "cat_count('marketplace')"
   ]
  },
  {
   "cell_type": "code",
   "execution_count": 35,
   "metadata": {},
   "outputs": [],
   "source": [
    "df['year'] = pd.DatetimeIndex(df['review_date']).year\n",
    "df['month'] = pd.DatetimeIndex(df['review_date']).month"
   ]
  },
  {
   "cell_type": "code",
   "execution_count": 36,
   "metadata": {},
   "outputs": [
    {
     "data": {
      "text/html": [
       "<div>\n",
       "<style scoped>\n",
       "    .dataframe tbody tr th:only-of-type {\n",
       "        vertical-align: middle;\n",
       "    }\n",
       "\n",
       "    .dataframe tbody tr th {\n",
       "        vertical-align: top;\n",
       "    }\n",
       "\n",
       "    .dataframe thead th {\n",
       "        text-align: right;\n",
       "    }\n",
       "</style>\n",
       "<table border=\"1\" class=\"dataframe\">\n",
       "  <thead>\n",
       "    <tr style=\"text-align: right;\">\n",
       "      <th></th>\n",
       "      <th>marketplace</th>\n",
       "      <th>customer_id</th>\n",
       "      <th>review_id</th>\n",
       "      <th>product_id</th>\n",
       "      <th>product_parent</th>\n",
       "      <th>product_title</th>\n",
       "      <th>product_category</th>\n",
       "      <th>star_rating</th>\n",
       "      <th>helpful_votes</th>\n",
       "      <th>total_votes</th>\n",
       "      <th>vine</th>\n",
       "      <th>verified_purchase</th>\n",
       "      <th>review_headline</th>\n",
       "      <th>review_body</th>\n",
       "      <th>review_date</th>\n",
       "      <th>year</th>\n",
       "      <th>month</th>\n",
       "    </tr>\n",
       "  </thead>\n",
       "  <tbody>\n",
       "    <tr>\n",
       "      <th>0</th>\n",
       "      <td>US</td>\n",
       "      <td>24371595</td>\n",
       "      <td>R27ZP1F1CD0C3Y</td>\n",
       "      <td>B004LLIL5A</td>\n",
       "      <td>346014806</td>\n",
       "      <td>Amazon eGift Card - Celebrate</td>\n",
       "      <td>Gift Card</td>\n",
       "      <td>5</td>\n",
       "      <td>0</td>\n",
       "      <td>0</td>\n",
       "      <td>N</td>\n",
       "      <td>Y</td>\n",
       "      <td>Five Stars</td>\n",
       "      <td>Great birthday gift for a young adult.</td>\n",
       "      <td>2015-08-31</td>\n",
       "      <td>2015.0</td>\n",
       "      <td>8.0</td>\n",
       "    </tr>\n",
       "    <tr>\n",
       "      <th>1</th>\n",
       "      <td>US</td>\n",
       "      <td>42489718</td>\n",
       "      <td>RJ7RSBCHUDNNE</td>\n",
       "      <td>B004LLIKVU</td>\n",
       "      <td>473048287</td>\n",
       "      <td>Amazon.com eGift Cards</td>\n",
       "      <td>Gift Card</td>\n",
       "      <td>5</td>\n",
       "      <td>0</td>\n",
       "      <td>0</td>\n",
       "      <td>N</td>\n",
       "      <td>Y</td>\n",
       "      <td>Gift card for the greatest selection of items ...</td>\n",
       "      <td>It's an Amazon gift card and with over 9823983...</td>\n",
       "      <td>2015-08-31</td>\n",
       "      <td>2015.0</td>\n",
       "      <td>8.0</td>\n",
       "    </tr>\n",
       "    <tr>\n",
       "      <th>2</th>\n",
       "      <td>US</td>\n",
       "      <td>861463</td>\n",
       "      <td>R1HVYBSKLQJI5S</td>\n",
       "      <td>B00IX1I3G6</td>\n",
       "      <td>926539283</td>\n",
       "      <td>Amazon.com Gift Card Balance Reload</td>\n",
       "      <td>Gift Card</td>\n",
       "      <td>5</td>\n",
       "      <td>0</td>\n",
       "      <td>0</td>\n",
       "      <td>N</td>\n",
       "      <td>Y</td>\n",
       "      <td>Five Stars</td>\n",
       "      <td>Good</td>\n",
       "      <td>2015-08-31</td>\n",
       "      <td>2015.0</td>\n",
       "      <td>8.0</td>\n",
       "    </tr>\n",
       "    <tr>\n",
       "      <th>3</th>\n",
       "      <td>US</td>\n",
       "      <td>25283295</td>\n",
       "      <td>R2HAXF0IIYQBIR</td>\n",
       "      <td>B00IX1I3G6</td>\n",
       "      <td>926539283</td>\n",
       "      <td>Amazon.com Gift Card Balance Reload</td>\n",
       "      <td>Gift Card</td>\n",
       "      <td>1</td>\n",
       "      <td>0</td>\n",
       "      <td>0</td>\n",
       "      <td>N</td>\n",
       "      <td>Y</td>\n",
       "      <td>One Star</td>\n",
       "      <td>Fair</td>\n",
       "      <td>2015-08-31</td>\n",
       "      <td>2015.0</td>\n",
       "      <td>8.0</td>\n",
       "    </tr>\n",
       "    <tr>\n",
       "      <th>4</th>\n",
       "      <td>US</td>\n",
       "      <td>397970</td>\n",
       "      <td>RNYLPX611NB7Q</td>\n",
       "      <td>B005ESMGV4</td>\n",
       "      <td>379368939</td>\n",
       "      <td>Amazon.com Gift Cards, Pack of 3 (Various Desi...</td>\n",
       "      <td>Gift Card</td>\n",
       "      <td>5</td>\n",
       "      <td>0</td>\n",
       "      <td>0</td>\n",
       "      <td>N</td>\n",
       "      <td>Y</td>\n",
       "      <td>Five Stars</td>\n",
       "      <td>I can't believe how quickly Amazon can get the...</td>\n",
       "      <td>2015-08-31</td>\n",
       "      <td>2015.0</td>\n",
       "      <td>8.0</td>\n",
       "    </tr>\n",
       "    <tr>\n",
       "      <th>...</th>\n",
       "      <td>...</td>\n",
       "      <td>...</td>\n",
       "      <td>...</td>\n",
       "      <td>...</td>\n",
       "      <td>...</td>\n",
       "      <td>...</td>\n",
       "      <td>...</td>\n",
       "      <td>...</td>\n",
       "      <td>...</td>\n",
       "      <td>...</td>\n",
       "      <td>...</td>\n",
       "      <td>...</td>\n",
       "      <td>...</td>\n",
       "      <td>...</td>\n",
       "      <td>...</td>\n",
       "      <td>...</td>\n",
       "      <td>...</td>\n",
       "    </tr>\n",
       "    <tr>\n",
       "      <th>148305</th>\n",
       "      <td>US</td>\n",
       "      <td>40383801</td>\n",
       "      <td>R57O26VBSLMP1</td>\n",
       "      <td>B0002CZPPG</td>\n",
       "      <td>867256265</td>\n",
       "      <td>Apple iTunes Prepaid Card ($15)</td>\n",
       "      <td>Gift Card</td>\n",
       "      <td>5</td>\n",
       "      <td>10</td>\n",
       "      <td>10</td>\n",
       "      <td>N</td>\n",
       "      <td>N</td>\n",
       "      <td>Way easier than explaining your musical taste ...</td>\n",
       "      <td>Finally there is a way for your family to buy ...</td>\n",
       "      <td>2005-01-21</td>\n",
       "      <td>2005.0</td>\n",
       "      <td>1.0</td>\n",
       "    </tr>\n",
       "    <tr>\n",
       "      <th>148306</th>\n",
       "      <td>US</td>\n",
       "      <td>15124244</td>\n",
       "      <td>R375D634NGSSPI</td>\n",
       "      <td>B0002CZPPG</td>\n",
       "      <td>867256265</td>\n",
       "      <td>Apple iTunes Prepaid Card ($15)</td>\n",
       "      <td>Gift Card</td>\n",
       "      <td>4</td>\n",
       "      <td>8</td>\n",
       "      <td>44</td>\n",
       "      <td>N</td>\n",
       "      <td>N</td>\n",
       "      <td>itunes paid for</td>\n",
       "      <td>its very convenient to have an idea of how mut...</td>\n",
       "      <td>2004-12-17</td>\n",
       "      <td>2004.0</td>\n",
       "      <td>12.0</td>\n",
       "    </tr>\n",
       "    <tr>\n",
       "      <th>148307</th>\n",
       "      <td>US</td>\n",
       "      <td>40383801</td>\n",
       "      <td>R2NCVKVC9B7I9C</td>\n",
       "      <td>B0002CZPPG</td>\n",
       "      <td>867256265</td>\n",
       "      <td>Apple iTunes Prepaid Card ($15)</td>\n",
       "      <td>Gift Card</td>\n",
       "      <td>5</td>\n",
       "      <td>20</td>\n",
       "      <td>30</td>\n",
       "      <td>N</td>\n",
       "      <td>N</td>\n",
       "      <td>Way easier than explaining your musical taste ...</td>\n",
       "      <td>Finally there is a way for your family to buy ...</td>\n",
       "      <td>2004-11-30</td>\n",
       "      <td>2004.0</td>\n",
       "      <td>11.0</td>\n",
       "    </tr>\n",
       "    <tr>\n",
       "      <th>148308</th>\n",
       "      <td>US</td>\n",
       "      <td>30603398</td>\n",
       "      <td>RC2BIM4XKDCY4</td>\n",
       "      <td>B0002CZPPG</td>\n",
       "      <td>867256265</td>\n",
       "      <td>Apple iTunes Prepaid Card ($15)</td>\n",
       "      <td>Gift Card</td>\n",
       "      <td>4</td>\n",
       "      <td>63</td>\n",
       "      <td>72</td>\n",
       "      <td>N</td>\n",
       "      <td>N</td>\n",
       "      <td>A great way to turn cash into songs</td>\n",
       "      <td>I picked up a few of these at Target a while b...</td>\n",
       "      <td>2004-11-10</td>\n",
       "      <td>2004.0</td>\n",
       "      <td>11.0</td>\n",
       "    </tr>\n",
       "    <tr>\n",
       "      <th>148309</th>\n",
       "      <td>US</td>\n",
       "      <td>16262996</td>\n",
       "      <td>RKOEI5NT6A7LL</td>\n",
       "      <td>B0002CZPPG</td>\n",
       "      <td>867256265</td>\n",
       "      <td>Apple iTunes Prepaid Card ($15)</td>\n",
       "      <td>Gift Card</td>\n",
       "      <td>5</td>\n",
       "      <td>26</td>\n",
       "      <td>29</td>\n",
       "      <td>N</td>\n",
       "      <td>N</td>\n",
       "      <td>iTunes Gift Card</td>\n",
       "      <td>This is the ultimate tool for downloading musi...</td>\n",
       "      <td>2004-10-14</td>\n",
       "      <td>2004.0</td>\n",
       "      <td>10.0</td>\n",
       "    </tr>\n",
       "  </tbody>\n",
       "</table>\n",
       "<p>148310 rows × 17 columns</p>\n",
       "</div>"
      ],
      "text/plain": [
       "       marketplace  customer_id       review_id  product_id  product_parent  \\\n",
       "0               US     24371595  R27ZP1F1CD0C3Y  B004LLIL5A       346014806   \n",
       "1               US     42489718   RJ7RSBCHUDNNE  B004LLIKVU       473048287   \n",
       "2               US       861463  R1HVYBSKLQJI5S  B00IX1I3G6       926539283   \n",
       "3               US     25283295  R2HAXF0IIYQBIR  B00IX1I3G6       926539283   \n",
       "4               US       397970   RNYLPX611NB7Q  B005ESMGV4       379368939   \n",
       "...            ...          ...             ...         ...             ...   \n",
       "148305          US     40383801   R57O26VBSLMP1  B0002CZPPG       867256265   \n",
       "148306          US     15124244  R375D634NGSSPI  B0002CZPPG       867256265   \n",
       "148307          US     40383801  R2NCVKVC9B7I9C  B0002CZPPG       867256265   \n",
       "148308          US     30603398   RC2BIM4XKDCY4  B0002CZPPG       867256265   \n",
       "148309          US     16262996   RKOEI5NT6A7LL  B0002CZPPG       867256265   \n",
       "\n",
       "                                            product_title product_category  \\\n",
       "0                           Amazon eGift Card - Celebrate        Gift Card   \n",
       "1                                  Amazon.com eGift Cards        Gift Card   \n",
       "2                     Amazon.com Gift Card Balance Reload        Gift Card   \n",
       "3                     Amazon.com Gift Card Balance Reload        Gift Card   \n",
       "4       Amazon.com Gift Cards, Pack of 3 (Various Desi...        Gift Card   \n",
       "...                                                   ...              ...   \n",
       "148305                    Apple iTunes Prepaid Card ($15)        Gift Card   \n",
       "148306                    Apple iTunes Prepaid Card ($15)        Gift Card   \n",
       "148307                    Apple iTunes Prepaid Card ($15)        Gift Card   \n",
       "148308                    Apple iTunes Prepaid Card ($15)        Gift Card   \n",
       "148309                    Apple iTunes Prepaid Card ($15)        Gift Card   \n",
       "\n",
       "        star_rating  helpful_votes  total_votes vine verified_purchase  \\\n",
       "0                 5              0            0    N                 Y   \n",
       "1                 5              0            0    N                 Y   \n",
       "2                 5              0            0    N                 Y   \n",
       "3                 1              0            0    N                 Y   \n",
       "4                 5              0            0    N                 Y   \n",
       "...             ...            ...          ...  ...               ...   \n",
       "148305            5             10           10    N                 N   \n",
       "148306            4              8           44    N                 N   \n",
       "148307            5             20           30    N                 N   \n",
       "148308            4             63           72    N                 N   \n",
       "148309            5             26           29    N                 N   \n",
       "\n",
       "                                          review_headline  \\\n",
       "0                                              Five Stars   \n",
       "1       Gift card for the greatest selection of items ...   \n",
       "2                                              Five Stars   \n",
       "3                                                One Star   \n",
       "4                                              Five Stars   \n",
       "...                                                   ...   \n",
       "148305  Way easier than explaining your musical taste ...   \n",
       "148306                                    itunes paid for   \n",
       "148307  Way easier than explaining your musical taste ...   \n",
       "148308                A great way to turn cash into songs   \n",
       "148309                                   iTunes Gift Card   \n",
       "\n",
       "                                              review_body review_date    year  \\\n",
       "0                  Great birthday gift for a young adult.  2015-08-31  2015.0   \n",
       "1       It's an Amazon gift card and with over 9823983...  2015-08-31  2015.0   \n",
       "2                                                    Good  2015-08-31  2015.0   \n",
       "3                                                    Fair  2015-08-31  2015.0   \n",
       "4       I can't believe how quickly Amazon can get the...  2015-08-31  2015.0   \n",
       "...                                                   ...         ...     ...   \n",
       "148305  Finally there is a way for your family to buy ...  2005-01-21  2005.0   \n",
       "148306  its very convenient to have an idea of how mut...  2004-12-17  2004.0   \n",
       "148307  Finally there is a way for your family to buy ...  2004-11-30  2004.0   \n",
       "148308  I picked up a few of these at Target a while b...  2004-11-10  2004.0   \n",
       "148309  This is the ultimate tool for downloading musi...  2004-10-14  2004.0   \n",
       "\n",
       "        month  \n",
       "0         8.0  \n",
       "1         8.0  \n",
       "2         8.0  \n",
       "3         8.0  \n",
       "4         8.0  \n",
       "...       ...  \n",
       "148305    1.0  \n",
       "148306   12.0  \n",
       "148307   11.0  \n",
       "148308   11.0  \n",
       "148309   10.0  \n",
       "\n",
       "[148310 rows x 17 columns]"
      ]
     },
     "execution_count": 36,
     "metadata": {},
     "output_type": "execute_result"
    }
   ],
   "source": [
    "df"
   ]
  },
  {
   "cell_type": "code",
   "execution_count": 37,
   "metadata": {},
   "outputs": [
    {
     "data": {
      "image/png": "[encoded data removed]",
      "text/plain": [
       "<Figure size 1500x500 with 1 Axes>"
      ]
     },
     "metadata": {},
     "output_type": "display_data"
    },
    {
     "name": "stdout",
     "output_type": "stream",
     "text": [
      "CPU times: total: 125 ms\n",
      "Wall time: 135 ms\n"
     ]
    }
   ],
   "source": [
    "%%time\n",
    "sns.countplot(x='year',data=df)\n",
    "plt.title('Category Counts')\n",
    "fig = plt.gcf()\n",
    "fig.set_size_inches( 15, 5)\n",
    "plt.show()"
   ]
  },
  {
   "cell_type": "code",
   "execution_count": 38,
   "metadata": {},
   "outputs": [
    {
     "data": {
      "text/plain": [
       "2014.0    46717\n",
       "2015.0    43692\n",
       "2013.0    32698\n",
       "2012.0    17513\n",
       "2011.0     6107\n",
       "2010.0     1368\n",
       "2009.0      131\n",
       "2005.0       29\n",
       "2008.0       23\n",
       "2007.0       20\n",
       "2006.0        7\n",
       "2004.0        4\n",
       "Name: year, dtype: int64"
      ]
     },
     "execution_count": 38,
     "metadata": {},
     "output_type": "execute_result"
    }
   ],
   "source": [
    "cat_count('year')"
   ]
  },
  {
   "cell_type": "code",
   "execution_count": 39,
   "metadata": {},
   "outputs": [
    {
     "data": {
      "image/png": "[encoded data removed]",
      "text/plain": [
       "<Figure size 1500x500 with 1 Axes>"
      ]
     },
     "metadata": {},
     "output_type": "display_data"
    },
    {
     "name": "stdout",
     "output_type": "stream",
     "text": [
      "CPU times: total: 125 ms\n",
      "Wall time: 127 ms\n"
     ]
    }
   ],
   "source": [
    "%%time\n",
    "sns.countplot(x='month',data=df)\n",
    "plt.title('Month Counts')\n",
    "fig = plt.gcf()\n",
    "fig.set_size_inches( 15, 5)\n",
    "plt.show()"
   ]
  },
  {
   "cell_type": "code",
   "execution_count": 40,
   "metadata": {},
   "outputs": [
    {
     "data": {
      "text/plain": [
       "1.0     33206\n",
       "2.0     14947\n",
       "12.0    13622\n",
       "7.0     12209\n",
       "3.0     11974\n",
       "8.0     11526\n",
       "6.0     11440\n",
       "4.0      9110\n",
       "5.0      8975\n",
       "10.0     7556\n",
       "11.0     6945\n",
       "9.0      6799\n",
       "Name: month, dtype: int64"
      ]
     },
     "execution_count": 40,
     "metadata": {},
     "output_type": "execute_result"
    }
   ],
   "source": [
    "cat_count('month')"
   ]
  },
  {
   "cell_type": "markdown",
   "metadata": {},
   "source": [
    "# Data Class"
   ]
  },
  {
   "cell_type": "code",
   "execution_count": 41,
   "metadata": {},
   "outputs": [
    {
     "name": "stdout",
     "output_type": "stream",
     "text": [
      "CPU times: total: 0 ns\n",
      "Wall time: 0 ns\n"
     ]
    }
   ],
   "source": [
    "%%time\n",
    "import random\n",
    "\n",
    "class Review:\n",
    "    def __init__(self, text, score):\n",
    "        self.text = text\n",
    "        self.score = score\n",
    "        self.sentiment = self.get_sentiment()\n",
    "        \n",
    "    def get_sentiment(self):\n",
    "        if self.score <= 2:\n",
    "            return \"NEGATIVE\"\n",
    "        elif self.score == 3:\n",
    "            return \"NEUTRAL\"\n",
    "        else: #Score of 4 or 5\n",
    "            return \"POSITIVE\"\n",
    "\n",
    "class ReviewContainer:\n",
    "    def __init__(self, reviews):\n",
    "        self.reviews = reviews\n",
    "        \n",
    "    def get_text(self):\n",
    "        return [x.text for x in self.reviews]\n",
    "    \n",
    "    def get_sentiment(self):\n",
    "        return [x.sentiment for x in self.reviews]\n",
    "        \n",
    "    def evenly_distribute(self):\n",
    "        negative = list(filter(lambda x: x.sentiment == \"NEGATIVE\", self.reviews))\n",
    "        positive = list(filter(lambda x: x.sentiment == \"POSITIVE\", self.reviews))\n",
    "        positive_shrunk = positive[:len(negative)]\n",
    "        self.reviews = negative + positive_shrunk\n",
    "        random.shuffle(self.reviews)"
   ]
  },
  {
   "cell_type": "markdown",
   "metadata": {},
   "source": [
    "# Simplifying the Data"
   ]
  },
  {
   "cell_type": "code",
   "execution_count": 43,
   "metadata": {},
   "outputs": [
    {
     "name": "stdout",
     "output_type": "stream",
     "text": [
      "Text:  Fair\n",
      "Score:  1\n",
      "Sentiment:  NEGATIVE\n",
      "CPU times: total: 172 ms\n",
      "Wall time: 176 ms\n"
     ]
    }
   ],
   "source": [
    "%%time\n",
    "review = [Review(x, y) for x, y in zip(df['review_body'], df['star_rating'])]\n",
    "print('Text: ',review[3].text)\n",
    "print('Score: ' ,review[3].score)\n",
    "print('Sentiment: ' ,review[3].sentiment)"
   ]
  },
  {
   "cell_type": "markdown",
   "metadata": {},
   "source": [
    "# Preparing the Data"
   ]
  },
  {
   "cell_type": "code",
   "execution_count": 44,
   "metadata": {},
   "outputs": [
    {
     "name": "stdout",
     "output_type": "stream",
     "text": [
      "CPU times: total: 297 ms\n",
      "Wall time: 293 ms\n"
     ]
    }
   ],
   "source": [
    "%%time\n",
    "from sklearn.model_selection import train_test_split\n",
    "train,test = train_test_split(review,test_size=0.25,random_state=42)\n",
    "\n",
    "train_container = ReviewContainer(train)\n",
    "\n",
    "test_container = ReviewContainer(test)"
   ]
  },
  {
   "cell_type": "code",
   "execution_count": 45,
   "metadata": {},
   "outputs": [
    {
     "name": "stdout",
     "output_type": "stream",
     "text": [
      "4744\n",
      "4744\n",
      "CPU times: total: 93.8 ms\n",
      "Wall time: 95.5 ms\n"
     ]
    }
   ],
   "source": [
    "%%time\n",
    "train_container.evenly_distribute()\n",
    "train_x = train_container.get_text()\n",
    "train_y = train_container.get_sentiment()\n",
    "\n",
    "test_container.evenly_distribute()\n",
    "test_x = test_container.get_text()\n",
    "test_y = test_container.get_sentiment()\n",
    "\n",
    "print(train_y.count(\"POSITIVE\"))\n",
    "print(train_y.count(\"NEGATIVE\"))"
   ]
  },
  {
   "cell_type": "markdown",
   "metadata": {},
   "source": [
    "# Vectorization"
   ]
  },
  {
   "cell_type": "code",
   "execution_count": 46,
   "metadata": {},
   "outputs": [
    {
     "name": "stdout",
     "output_type": "stream",
     "text": [
      "I' m still waiting to receive my watch. Please send me my watch or give me back my money\n",
      "[[0. 0. 0. ... 0. 0. 0.]]\n",
      "CPU times: total: 234 ms\n",
      "Wall time: 232 ms\n"
     ]
    }
   ],
   "source": [
    "%%time\n",
    "from sklearn.feature_extraction.text import CountVectorizer, TfidfVectorizer\n",
    "\n",
    "# This book is great\n",
    "# This book was so bad\n",
    "\n",
    "vectorizer = TfidfVectorizer()\n",
    "train_x_vectors = vectorizer.fit_transform(train_x)\n",
    "\n",
    "test_x_vectors = vectorizer.transform(test_x)\n",
    "\n",
    "print(train_x[3])\n",
    "print(train_x_vectors[3].toarray())"
   ]
  },
  {
   "cell_type": "markdown",
   "metadata": {},
   "source": [
    "# Classification"
   ]
  },
  {
   "cell_type": "markdown",
   "metadata": {},
   "source": [
    "## Linear SVM"
   ]
  },
  {
   "cell_type": "code",
   "execution_count": 47,
   "metadata": {},
   "outputs": [
    {
     "name": "stdout",
     "output_type": "stream",
     "text": [
      "Bought a 25 dollar card.  Scratched off the cover to the activation code, tried to use it to purchase some music and got a 'server error' from iTunes store.  Tried to repeat the purchase and was told 'card has been redeemed'. Got nothing for my [...] bucks and Apple won't respond.  Not a good product from my experience.\n",
      "CPU times: total: 5.83 s\n",
      "Wall time: 5.84 s\n"
     ]
    },
    {
     "data": {
      "text/plain": [
       "array(['NEGATIVE'], dtype='<U8')"
      ]
     },
     "execution_count": 47,
     "metadata": {},
     "output_type": "execute_result"
    }
   ],
   "source": [
    "%%time\n",
    "from sklearn import svm\n",
    "\n",
    "clf_svm = svm.SVC(kernel='linear')\n",
    "\n",
    "clf_svm.fit(train_x_vectors, train_y)\n",
    "\n",
    "print(test_x[3])\n",
    "clf_svm.predict(test_x_vectors[3])"
   ]
  },
  {
   "cell_type": "markdown",
   "metadata": {},
   "source": [
    "## Decision Tree"
   ]
  },
  {
   "cell_type": "code",
   "execution_count": 48,
   "metadata": {},
   "outputs": [
    {
     "name": "stdout",
     "output_type": "stream",
     "text": [
      "CPU times: total: 1.97 s\n",
      "Wall time: 1.99 s\n"
     ]
    },
    {
     "data": {
      "text/plain": [
       "array(['POSITIVE'], dtype='<U8')"
      ]
     },
     "execution_count": 48,
     "metadata": {},
     "output_type": "execute_result"
    }
   ],
   "source": [
    "%%time\n",
    "from sklearn.tree import DecisionTreeClassifier\n",
    "\n",
    "clf_dec = DecisionTreeClassifier()\n",
    "clf_dec.fit(train_x_vectors, train_y)\n",
    "\n",
    "clf_dec.predict(test_x_vectors[0])"
   ]
  },
  {
   "cell_type": "markdown",
   "metadata": {},
   "source": [
    "## Score of each classifier"
   ]
  },
  {
   "cell_type": "code",
   "execution_count": 49,
   "metadata": {},
   "outputs": [
    {
     "name": "stdout",
     "output_type": "stream",
     "text": [
      "0.9257269279393173\n",
      "0.8296460176991151\n"
     ]
    }
   ],
   "source": [
    "print(clf_svm.score(test_x_vectors, test_y))\n",
    "print(clf_dec.score(test_x_vectors, test_y))"
   ]
  },
  {
   "cell_type": "markdown",
   "metadata": {},
   "source": [
    "## F1 score of SVM"
   ]
  },
  {
   "cell_type": "code",
   "execution_count": 50,
   "metadata": {},
   "outputs": [
    {
     "data": {
      "text/plain": [
       "array([0.92598425, 0.92546781])"
      ]
     },
     "execution_count": 50,
     "metadata": {},
     "output_type": "execute_result"
    }
   ],
   "source": [
    "from sklearn.metrics import f1_score\n",
    "\n",
    "f1_score(test_y, clf_svm.predict(test_x_vectors), average=None, labels=[\"POSITIVE\", \"NEGATIVE\"])"
   ]
  },
  {
   "cell_type": "markdown",
   "metadata": {},
   "source": [
    "## Testing the Model"
   ]
  },
  {
   "cell_type": "code",
   "execution_count": 51,
   "metadata": {},
   "outputs": [
    {
     "name": "stdout",
     "output_type": "stream",
     "text": [
      "CPU times: total: 0 ns\n",
      "Wall time: 0 ns\n"
     ]
    },
    {
     "data": {
      "text/plain": [
       "array(['NEGATIVE', 'POSITIVE', 'NEGATIVE'], dtype='<U8')"
      ]
     },
     "execution_count": 51,
     "metadata": {},
     "output_type": "execute_result"
    }
   ],
   "source": [
    "%%time\n",
    "test_set = ['do not buy', \"i would definetly recommend\", 'worst book EVER!']\n",
    "new_test = vectorizer.transform(test_set)\n",
    "\n",
    "clf_svm.predict(new_test)"
   ]
  },
  {
   "cell_type": "markdown",
   "metadata": {},
   "source": [
    "## Visualization"
   ]
  },
  {
   "cell_type": "code",
   "execution_count": 52,
   "metadata": {},
   "outputs": [
    {
     "data": {
      "image/png": "[encoded data removed]",
      "text/plain": [
       "<Figure size 640x480 with 2 Axes>"
      ]
     },
     "metadata": {},
     "output_type": "display_data"
    },
    {
     "name": "stdout",
     "output_type": "stream",
     "text": [
      "CPU times: total: 1.55 s\n",
      "Wall time: 1.54 s\n"
     ]
    }
   ],
   "source": [
    "%%time\n",
    "import matplotlib.pyplot as plt\n",
    "from collections import Counter\n",
    "\n",
    "x=list(clf_svm.predict(test_x_vectors))\n",
    "\n",
    "a1=(list(Counter(x).keys())) # unique values\n",
    "a2=(list(Counter(x).values())) # counts the elements' frequency\n",
    "\n",
    "plt.subplot(1,2,1)\n",
    "plt.title(\"Predicted\")\n",
    "plt.pie(a2,labels=a1,autopct='%1.1f%%',colors=['c','lime'])\n",
    "\n",
    "b1=(list(Counter(test_y).keys())) \n",
    "b2=(list(Counter(test_y).values())) \n",
    "\n",
    "plt.subplot(1,2,2)\n",
    "plt.title(\"Actual\")\n",
    "plt.pie(b2,labels=b1,autopct='%1.1f%%',colors=['c','lime'])\n",
    "\n",
    "plt.show()"
   ]
  },
  {
   "cell_type": "code",
   "execution_count": null,
   "metadata": {},
   "outputs": [],
   "source": []
  }
 ],
 "metadata": {
  "kernelspec": {
   "display_name": "Python 3 (ipykernel)",
   "language": "python",
   "name": "python3"
  },
  "language_info": {
   "codemirror_mode": {
    "name": "ipython",
    "version": 3
   },
   "file_extension": ".py",
   "mimetype": "text/x-python",
   "name": "python",
   "nbconvert_exporter": "python",
   "pygments_lexer": "ipython3",
   "version": "3.11.0"
  }
 },
 "nbformat": 4,
 "nbformat_minor": 2
}
