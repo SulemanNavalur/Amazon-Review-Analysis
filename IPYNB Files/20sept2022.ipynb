{
 "cells": [
  {
   "cell_type": "code",
   "execution_count": 37,
   "metadata": {},
   "outputs": [],
   "source": [
    "#press shift + tab to get what function values a particular function needs to take"
   ]
  },
  {
   "cell_type": "markdown",
   "metadata": {},
   "source": [
    "# Loading the Data"
   ]
  },
  {
   "cell_type": "code",
   "execution_count": 1,
   "metadata": {},
   "outputs": [
    {
     "name": "stdout",
     "output_type": "stream",
     "text": [
      "CPU times: total: 2.64 s\n",
      "Wall time: 2.9 s\n"
     ]
    },
    {
     "data": {
      "text/html": [
       "<div>\n",
       "<style scoped>\n",
       "    .dataframe tbody tr th:only-of-type {\n",
       "        vertical-align: middle;\n",
       "    }\n",
       "\n",
       "    .dataframe tbody tr th {\n",
       "        vertical-align: top;\n",
       "    }\n",
       "\n",
       "    .dataframe thead th {\n",
       "        text-align: right;\n",
       "    }\n",
       "</style>\n",
       "<table border=\"1\" class=\"dataframe\">\n",
       "  <thead>\n",
       "    <tr style=\"text-align: right;\">\n",
       "      <th></th>\n",
       "      <th>_id</th>\n",
       "      <th>reviewerID</th>\n",
       "      <th>asin</th>\n",
       "      <th>reviewerName</th>\n",
       "      <th>helpful</th>\n",
       "      <th>reviewText</th>\n",
       "      <th>overall</th>\n",
       "      <th>summary</th>\n",
       "      <th>unixReviewTime</th>\n",
       "      <th>reviewTime</th>\n",
       "      <th>category</th>\n",
       "      <th>BehaviouralFeatureResult</th>\n",
       "      <th>label</th>\n",
       "    </tr>\n",
       "  </thead>\n",
       "  <tbody>\n",
       "    <tr>\n",
       "      <th>0</th>\n",
       "      <td>{'$oid': '5a421d732bfbb88f180e24d2'}</td>\n",
       "      <td>A3ITLRYWLKJP5B</td>\n",
       "      <td>B000809PCG</td>\n",
       "      <td>Barry</td>\n",
       "      <td>[1.0, 2.0]</td>\n",
       "      <td>it's ok, but not great fun.  maybe it just mak...</td>\n",
       "      <td>3</td>\n",
       "      <td>Not the first game I reach for...</td>\n",
       "      <td>1357689600</td>\n",
       "      <td>01 9, 2013</td>\n",
       "      <td>Toys_and_Games</td>\n",
       "      <td>{'CS': 0.5259506810000001, 'MNR': 0.0, 'RB': 0...</td>\n",
       "      <td>0.0</td>\n",
       "    </tr>\n",
       "    <tr>\n",
       "      <th>1</th>\n",
       "      <td>{'$oid': '5a421d732bfbb88f180e24d3'}</td>\n",
       "      <td>AA65S7IF7V9GU</td>\n",
       "      <td>B004Y6F9KW</td>\n",
       "      <td>J Ayles</td>\n",
       "      <td>[0.0, 0.0]</td>\n",
       "      <td>I love this Air-soft rifle. I love the scope i...</td>\n",
       "      <td>5</td>\n",
       "      <td>Cool</td>\n",
       "      <td>1314230400</td>\n",
       "      <td>08 25, 2011</td>\n",
       "      <td>Sports_and_Outdoors</td>\n",
       "      <td>{'CS': 0.0, 'MNR': 0.0, 'RB': 0.0, 'RC': 0.0, ...</td>\n",
       "      <td>0.0</td>\n",
       "    </tr>\n",
       "    <tr>\n",
       "      <th>2</th>\n",
       "      <td>{'$oid': '5a421d732bfbb88f180e24d4'}</td>\n",
       "      <td>A3EBF7VUVF09GW</td>\n",
       "      <td>B0041RR5X8</td>\n",
       "      <td>Helene M. Jolley \"Shopaholic\"</td>\n",
       "      <td>[0.0, 0.0]</td>\n",
       "      <td>Bought this for my new bathroom and though it ...</td>\n",
       "      <td>3</td>\n",
       "      <td>Flimsy but serviceable</td>\n",
       "      <td>1341705600</td>\n",
       "      <td>07 8, 2012</td>\n",
       "      <td>Home_and_Kitchen</td>\n",
       "      <td>{'CS': 0.639148171, 'MNR': 0.0, 'RB': 0.0, 'RC...</td>\n",
       "      <td>0.0</td>\n",
       "    </tr>\n",
       "    <tr>\n",
       "      <th>3</th>\n",
       "      <td>{'$oid': '5a421d732bfbb88f180e24d5'}</td>\n",
       "      <td>A14YSDP7TH705X</td>\n",
       "      <td>B00066D6KO</td>\n",
       "      <td>amazonfan111</td>\n",
       "      <td>[0.0, 0.0]</td>\n",
       "      <td>I guess the description of \"4 lbs of force nee...</td>\n",
       "      <td>3</td>\n",
       "      <td>\"Medium weight\" = very light</td>\n",
       "      <td>1377302400</td>\n",
       "      <td>08 24, 2013</td>\n",
       "      <td>Sports_and_Outdoors</td>\n",
       "      <td>{'CS': 0.360997436, 'MNR': 1.0, 'RB': 1.0, 'RC...</td>\n",
       "      <td>0.0</td>\n",
       "    </tr>\n",
       "    <tr>\n",
       "      <th>4</th>\n",
       "      <td>{'$oid': '5a421d732bfbb88f180e24d6'}</td>\n",
       "      <td>A2VNHQNN1T3KKN</td>\n",
       "      <td>B0057MGKO6</td>\n",
       "      <td>sherri</td>\n",
       "      <td>[0.0, 0.0]</td>\n",
       "      <td>Only receive 5 of the 10? What's up with that?...</td>\n",
       "      <td>1</td>\n",
       "      <td>Only received 5 of the 10! What's up with that...</td>\n",
       "      <td>1390867200</td>\n",
       "      <td>01 28, 2014</td>\n",
       "      <td>Toys_and_Games</td>\n",
       "      <td>{'CS': 0.0, 'MNR': 0.0, 'RB': 0.0, 'RC': 0.0, ...</td>\n",
       "      <td>0.0</td>\n",
       "    </tr>\n",
       "    <tr>\n",
       "      <th>...</th>\n",
       "      <td>...</td>\n",
       "      <td>...</td>\n",
       "      <td>...</td>\n",
       "      <td>...</td>\n",
       "      <td>...</td>\n",
       "      <td>...</td>\n",
       "      <td>...</td>\n",
       "      <td>...</td>\n",
       "      <td>...</td>\n",
       "      <td>...</td>\n",
       "      <td>...</td>\n",
       "      <td>...</td>\n",
       "      <td>...</td>\n",
       "    </tr>\n",
       "    <tr>\n",
       "      <th>99934</th>\n",
       "      <td>{'$oid': '5a421d762bfbb88f180fab93'}</td>\n",
       "      <td>A372IAO7CEIQD6</td>\n",
       "      <td>B00KDZK0FW</td>\n",
       "      <td>nycferretgrl</td>\n",
       "      <td>[0.0, 0.0]</td>\n",
       "      <td>Too big. Order down.</td>\n",
       "      <td>2</td>\n",
       "      <td>Two Stars</td>\n",
       "      <td>1405382400</td>\n",
       "      <td>07 15, 2014</td>\n",
       "      <td>Clothing_Shoes_and_Jewelry</td>\n",
       "      <td>{'CS': 1.0, 'MNR': 1.0, 'RB': 1.0, 'RC': 1.0, ...</td>\n",
       "      <td>NaN</td>\n",
       "    </tr>\n",
       "    <tr>\n",
       "      <th>99935</th>\n",
       "      <td>{'$oid': '5a421d762bfbb88f180fab94'}</td>\n",
       "      <td>A3BSIQO0LXZYZD</td>\n",
       "      <td>B002GOHV4Q</td>\n",
       "      <td>Eloise</td>\n",
       "      <td>[0.0, 0.0]</td>\n",
       "      <td>No it did not.  It falls forward when loaded a...</td>\n",
       "      <td>1</td>\n",
       "      <td>Olympia Rolling Shopper</td>\n",
       "      <td>1383436800</td>\n",
       "      <td>11 3, 2013</td>\n",
       "      <td>Home_and_Kitchen</td>\n",
       "      <td>{'CS': 1.0, 'MNR': 1.0, 'RB': 1.0, 'RC': 1.0, ...</td>\n",
       "      <td>NaN</td>\n",
       "    </tr>\n",
       "    <tr>\n",
       "      <th>99936</th>\n",
       "      <td>{'$oid': '5a421d762bfbb88f180fab95'}</td>\n",
       "      <td>A2ATJ3AS7W68XP</td>\n",
       "      <td>B000646S4M</td>\n",
       "      <td>Larry D. Horath \"DL\"</td>\n",
       "      <td>[0.0, 2.0]</td>\n",
       "      <td>Fast, friendly service and the product was jus...</td>\n",
       "      <td>4</td>\n",
       "      <td>Closet rods</td>\n",
       "      <td>1320796800</td>\n",
       "      <td>11 9, 2011</td>\n",
       "      <td>Home_and_Kitchen</td>\n",
       "      <td>{'CS': 0.596284794, 'MNR': 1.0, 'RB': 1.0, 'RC...</td>\n",
       "      <td>NaN</td>\n",
       "    </tr>\n",
       "    <tr>\n",
       "      <th>99937</th>\n",
       "      <td>{'$oid': '5a421d762bfbb88f180fab96'}</td>\n",
       "      <td>A155IIEOH2ECXN</td>\n",
       "      <td>B003FNUOD2</td>\n",
       "      <td>Devin</td>\n",
       "      <td>[0.0, 1.0]</td>\n",
       "      <td>A bit pricey but I love him, great final boss ...</td>\n",
       "      <td>5</td>\n",
       "      <td>Prince of Undeath!</td>\n",
       "      <td>1374883200</td>\n",
       "      <td>07 27, 2013</td>\n",
       "      <td>Toys_and_Games</td>\n",
       "      <td>{'CS': 0.45074893600000004, 'MNR': 1.0, 'RB': ...</td>\n",
       "      <td>NaN</td>\n",
       "    </tr>\n",
       "    <tr>\n",
       "      <th>99938</th>\n",
       "      <td>{'$oid': '5a421d762bfbb88f180fab97'}</td>\n",
       "      <td>A24UEF9AXF124O</td>\n",
       "      <td>B00COYOAYW</td>\n",
       "      <td>Herschel Bunch Jr.</td>\n",
       "      <td>[3.0, 3.0]</td>\n",
       "      <td>I'm a big fan of iOS and this is a much better...</td>\n",
       "      <td>5</td>\n",
       "      <td>iOS user finds WP very smart</td>\n",
       "      <td>1398470400</td>\n",
       "      <td>04 26, 2014</td>\n",
       "      <td>Cell_Phones_and_Accessories</td>\n",
       "      <td>{'CS': 1.0, 'MNR': 1.0, 'RB': 1.0, 'RC': 1.0, ...</td>\n",
       "      <td>NaN</td>\n",
       "    </tr>\n",
       "  </tbody>\n",
       "</table>\n",
       "<p>99939 rows × 13 columns</p>\n",
       "</div>"
      ],
      "text/plain": [
       "                                        _id      reviewerID        asin  \\\n",
       "0      {'$oid': '5a421d732bfbb88f180e24d2'}  A3ITLRYWLKJP5B  B000809PCG   \n",
       "1      {'$oid': '5a421d732bfbb88f180e24d3'}   AA65S7IF7V9GU  B004Y6F9KW   \n",
       "2      {'$oid': '5a421d732bfbb88f180e24d4'}  A3EBF7VUVF09GW  B0041RR5X8   \n",
       "3      {'$oid': '5a421d732bfbb88f180e24d5'}  A14YSDP7TH705X  B00066D6KO   \n",
       "4      {'$oid': '5a421d732bfbb88f180e24d6'}  A2VNHQNN1T3KKN  B0057MGKO6   \n",
       "...                                     ...             ...         ...   \n",
       "99934  {'$oid': '5a421d762bfbb88f180fab93'}  A372IAO7CEIQD6  B00KDZK0FW   \n",
       "99935  {'$oid': '5a421d762bfbb88f180fab94'}  A3BSIQO0LXZYZD  B002GOHV4Q   \n",
       "99936  {'$oid': '5a421d762bfbb88f180fab95'}  A2ATJ3AS7W68XP  B000646S4M   \n",
       "99937  {'$oid': '5a421d762bfbb88f180fab96'}  A155IIEOH2ECXN  B003FNUOD2   \n",
       "99938  {'$oid': '5a421d762bfbb88f180fab97'}  A24UEF9AXF124O  B00COYOAYW   \n",
       "\n",
       "                        reviewerName     helpful  \\\n",
       "0                              Barry  [1.0, 2.0]   \n",
       "1                            J Ayles  [0.0, 0.0]   \n",
       "2      Helene M. Jolley \"Shopaholic\"  [0.0, 0.0]   \n",
       "3                       amazonfan111  [0.0, 0.0]   \n",
       "4                             sherri  [0.0, 0.0]   \n",
       "...                              ...         ...   \n",
       "99934                   nycferretgrl  [0.0, 0.0]   \n",
       "99935                         Eloise  [0.0, 0.0]   \n",
       "99936           Larry D. Horath \"DL\"  [0.0, 2.0]   \n",
       "99937                          Devin  [0.0, 1.0]   \n",
       "99938             Herschel Bunch Jr.  [3.0, 3.0]   \n",
       "\n",
       "                                              reviewText  overall  \\\n",
       "0      it's ok, but not great fun.  maybe it just mak...        3   \n",
       "1      I love this Air-soft rifle. I love the scope i...        5   \n",
       "2      Bought this for my new bathroom and though it ...        3   \n",
       "3      I guess the description of \"4 lbs of force nee...        3   \n",
       "4      Only receive 5 of the 10? What's up with that?...        1   \n",
       "...                                                  ...      ...   \n",
       "99934                               Too big. Order down.        2   \n",
       "99935  No it did not.  It falls forward when loaded a...        1   \n",
       "99936  Fast, friendly service and the product was jus...        4   \n",
       "99937  A bit pricey but I love him, great final boss ...        5   \n",
       "99938  I'm a big fan of iOS and this is a much better...        5   \n",
       "\n",
       "                                                 summary  unixReviewTime  \\\n",
       "0                      Not the first game I reach for...      1357689600   \n",
       "1                                                   Cool      1314230400   \n",
       "2                                 Flimsy but serviceable      1341705600   \n",
       "3                           \"Medium weight\" = very light      1377302400   \n",
       "4      Only received 5 of the 10! What's up with that...      1390867200   \n",
       "...                                                  ...             ...   \n",
       "99934                                          Two Stars      1405382400   \n",
       "99935                            Olympia Rolling Shopper      1383436800   \n",
       "99936                                        Closet rods      1320796800   \n",
       "99937                                 Prince of Undeath!      1374883200   \n",
       "99938                       iOS user finds WP very smart      1398470400   \n",
       "\n",
       "        reviewTime                     category  \\\n",
       "0       01 9, 2013               Toys_and_Games   \n",
       "1      08 25, 2011          Sports_and_Outdoors   \n",
       "2       07 8, 2012             Home_and_Kitchen   \n",
       "3      08 24, 2013          Sports_and_Outdoors   \n",
       "4      01 28, 2014               Toys_and_Games   \n",
       "...            ...                          ...   \n",
       "99934  07 15, 2014   Clothing_Shoes_and_Jewelry   \n",
       "99935   11 3, 2013             Home_and_Kitchen   \n",
       "99936   11 9, 2011             Home_and_Kitchen   \n",
       "99937  07 27, 2013               Toys_and_Games   \n",
       "99938  04 26, 2014  Cell_Phones_and_Accessories   \n",
       "\n",
       "                                BehaviouralFeatureResult  label  \n",
       "0      {'CS': 0.5259506810000001, 'MNR': 0.0, 'RB': 0...    0.0  \n",
       "1      {'CS': 0.0, 'MNR': 0.0, 'RB': 0.0, 'RC': 0.0, ...    0.0  \n",
       "2      {'CS': 0.639148171, 'MNR': 0.0, 'RB': 0.0, 'RC...    0.0  \n",
       "3      {'CS': 0.360997436, 'MNR': 1.0, 'RB': 1.0, 'RC...    0.0  \n",
       "4      {'CS': 0.0, 'MNR': 0.0, 'RB': 0.0, 'RC': 0.0, ...    0.0  \n",
       "...                                                  ...    ...  \n",
       "99934  {'CS': 1.0, 'MNR': 1.0, 'RB': 1.0, 'RC': 1.0, ...    NaN  \n",
       "99935  {'CS': 1.0, 'MNR': 1.0, 'RB': 1.0, 'RC': 1.0, ...    NaN  \n",
       "99936  {'CS': 0.596284794, 'MNR': 1.0, 'RB': 1.0, 'RC...    NaN  \n",
       "99937  {'CS': 0.45074893600000004, 'MNR': 1.0, 'RB': ...    NaN  \n",
       "99938  {'CS': 1.0, 'MNR': 1.0, 'RB': 1.0, 'RC': 1.0, ...    NaN  \n",
       "\n",
       "[99939 rows x 13 columns]"
      ]
     },
     "execution_count": 1,
     "metadata": {},
     "output_type": "execute_result"
    }
   ],
   "source": [
    "%%time\n",
    "import pandas as pd\n",
    "\n",
    "df = pd.read_json(r'D:\\BDA Project\\part.json', lines = True)\n",
    "\n",
    "df"
   ]
  },
  {
   "cell_type": "code",
   "execution_count": 2,
   "metadata": {},
   "outputs": [
    {
     "data": {
      "text/plain": [
       "Index(['_id', 'reviewerID', 'asin', 'reviewerName', 'helpful', 'reviewText',\n",
       "       'overall', 'summary', 'unixReviewTime', 'reviewTime', 'category',\n",
       "       'BehaviouralFeatureResult', 'label'],\n",
       "      dtype='object')"
      ]
     },
     "execution_count": 2,
     "metadata": {},
     "output_type": "execute_result"
    }
   ],
   "source": [
    "df.columns"
   ]
  },
  {
   "cell_type": "code",
   "execution_count": 3,
   "metadata": {},
   "outputs": [
    {
     "data": {
      "text/plain": [
       "_id                         99939\n",
       "reviewerID                  99939\n",
       "asin                        99939\n",
       "reviewerName                99215\n",
       "helpful                     99939\n",
       "reviewText                  99939\n",
       "overall                     99939\n",
       "summary                     99939\n",
       "unixReviewTime              99939\n",
       "reviewTime                  99939\n",
       "category                    99939\n",
       "BehaviouralFeatureResult    99939\n",
       "label                       19749\n",
       "dtype: int64"
      ]
     },
     "execution_count": 3,
     "metadata": {},
     "output_type": "execute_result"
    }
   ],
   "source": [
    "# Count of all records/reviews\n",
    "df.count()"
   ]
  },
  {
   "cell_type": "code",
   "execution_count": 4,
   "metadata": {},
   "outputs": [
    {
     "data": {
      "text/plain": [
       "_id                         99939\n",
       "reviewerID                  99939\n",
       "asin                        99939\n",
       "reviewerName                99215\n",
       "helpful                     99939\n",
       "reviewText                  99939\n",
       "overall                     99939\n",
       "summary                     99939\n",
       "unixReviewTime              99939\n",
       "reviewTime                  99939\n",
       "category                    99939\n",
       "BehaviouralFeatureResult    99939\n",
       "label                       19749\n",
       "dtype: int64"
      ]
     },
     "execution_count": 4,
     "metadata": {},
     "output_type": "execute_result"
    }
   ],
   "source": [
    "df.dropna()\n",
    "df.count()"
   ]
  },
  {
   "cell_type": "code",
   "execution_count": 5,
   "metadata": {},
   "outputs": [
    {
     "data": {
      "text/html": [
       "<div>\n",
       "<style scoped>\n",
       "    .dataframe tbody tr th:only-of-type {\n",
       "        vertical-align: middle;\n",
       "    }\n",
       "\n",
       "    .dataframe tbody tr th {\n",
       "        vertical-align: top;\n",
       "    }\n",
       "\n",
       "    .dataframe thead th {\n",
       "        text-align: right;\n",
       "    }\n",
       "</style>\n",
       "<table border=\"1\" class=\"dataframe\">\n",
       "  <thead>\n",
       "    <tr style=\"text-align: right;\">\n",
       "      <th></th>\n",
       "      <th>_id</th>\n",
       "      <th>reviewerID</th>\n",
       "      <th>asin</th>\n",
       "      <th>reviewerName</th>\n",
       "      <th>helpful</th>\n",
       "      <th>reviewText</th>\n",
       "      <th>overall</th>\n",
       "      <th>summary</th>\n",
       "      <th>unixReviewTime</th>\n",
       "      <th>reviewTime</th>\n",
       "      <th>category</th>\n",
       "      <th>BehaviouralFeatureResult</th>\n",
       "      <th>label</th>\n",
       "    </tr>\n",
       "  </thead>\n",
       "  <tbody>\n",
       "    <tr>\n",
       "      <th>0</th>\n",
       "      <td>{'$oid': '5a421d732bfbb88f180e24d2'}</td>\n",
       "      <td>A3ITLRYWLKJP5B</td>\n",
       "      <td>B000809PCG</td>\n",
       "      <td>Barry</td>\n",
       "      <td>[1.0, 2.0]</td>\n",
       "      <td>it's ok, but not great fun.  maybe it just mak...</td>\n",
       "      <td>3</td>\n",
       "      <td>Not the first game I reach for...</td>\n",
       "      <td>1357689600</td>\n",
       "      <td>01 9, 2013</td>\n",
       "      <td>Toys_and_Games</td>\n",
       "      <td>{'CS': 0.5259506810000001, 'MNR': 0.0, 'RB': 0...</td>\n",
       "      <td>0.0</td>\n",
       "    </tr>\n",
       "    <tr>\n",
       "      <th>1</th>\n",
       "      <td>{'$oid': '5a421d732bfbb88f180e24d3'}</td>\n",
       "      <td>AA65S7IF7V9GU</td>\n",
       "      <td>B004Y6F9KW</td>\n",
       "      <td>J Ayles</td>\n",
       "      <td>[0.0, 0.0]</td>\n",
       "      <td>I love this Air-soft rifle. I love the scope i...</td>\n",
       "      <td>5</td>\n",
       "      <td>Cool</td>\n",
       "      <td>1314230400</td>\n",
       "      <td>08 25, 2011</td>\n",
       "      <td>Sports_and_Outdoors</td>\n",
       "      <td>{'CS': 0.0, 'MNR': 0.0, 'RB': 0.0, 'RC': 0.0, ...</td>\n",
       "      <td>0.0</td>\n",
       "    </tr>\n",
       "    <tr>\n",
       "      <th>2</th>\n",
       "      <td>{'$oid': '5a421d732bfbb88f180e24d4'}</td>\n",
       "      <td>A3EBF7VUVF09GW</td>\n",
       "      <td>B0041RR5X8</td>\n",
       "      <td>Helene M. Jolley \"Shopaholic\"</td>\n",
       "      <td>[0.0, 0.0]</td>\n",
       "      <td>Bought this for my new bathroom and though it ...</td>\n",
       "      <td>3</td>\n",
       "      <td>Flimsy but serviceable</td>\n",
       "      <td>1341705600</td>\n",
       "      <td>07 8, 2012</td>\n",
       "      <td>Home_and_Kitchen</td>\n",
       "      <td>{'CS': 0.639148171, 'MNR': 0.0, 'RB': 0.0, 'RC...</td>\n",
       "      <td>0.0</td>\n",
       "    </tr>\n",
       "    <tr>\n",
       "      <th>3</th>\n",
       "      <td>{'$oid': '5a421d732bfbb88f180e24d5'}</td>\n",
       "      <td>A14YSDP7TH705X</td>\n",
       "      <td>B00066D6KO</td>\n",
       "      <td>amazonfan111</td>\n",
       "      <td>[0.0, 0.0]</td>\n",
       "      <td>I guess the description of \"4 lbs of force nee...</td>\n",
       "      <td>3</td>\n",
       "      <td>\"Medium weight\" = very light</td>\n",
       "      <td>1377302400</td>\n",
       "      <td>08 24, 2013</td>\n",
       "      <td>Sports_and_Outdoors</td>\n",
       "      <td>{'CS': 0.360997436, 'MNR': 1.0, 'RB': 1.0, 'RC...</td>\n",
       "      <td>0.0</td>\n",
       "    </tr>\n",
       "    <tr>\n",
       "      <th>4</th>\n",
       "      <td>{'$oid': '5a421d732bfbb88f180e24d6'}</td>\n",
       "      <td>A2VNHQNN1T3KKN</td>\n",
       "      <td>B0057MGKO6</td>\n",
       "      <td>sherri</td>\n",
       "      <td>[0.0, 0.0]</td>\n",
       "      <td>Only receive 5 of the 10? What's up with that?...</td>\n",
       "      <td>1</td>\n",
       "      <td>Only received 5 of the 10! What's up with that...</td>\n",
       "      <td>1390867200</td>\n",
       "      <td>01 28, 2014</td>\n",
       "      <td>Toys_and_Games</td>\n",
       "      <td>{'CS': 0.0, 'MNR': 0.0, 'RB': 0.0, 'RC': 0.0, ...</td>\n",
       "      <td>0.0</td>\n",
       "    </tr>\n",
       "  </tbody>\n",
       "</table>\n",
       "</div>"
      ],
      "text/plain": [
       "                                    _id      reviewerID        asin  \\\n",
       "0  {'$oid': '5a421d732bfbb88f180e24d2'}  A3ITLRYWLKJP5B  B000809PCG   \n",
       "1  {'$oid': '5a421d732bfbb88f180e24d3'}   AA65S7IF7V9GU  B004Y6F9KW   \n",
       "2  {'$oid': '5a421d732bfbb88f180e24d4'}  A3EBF7VUVF09GW  B0041RR5X8   \n",
       "3  {'$oid': '5a421d732bfbb88f180e24d5'}  A14YSDP7TH705X  B00066D6KO   \n",
       "4  {'$oid': '5a421d732bfbb88f180e24d6'}  A2VNHQNN1T3KKN  B0057MGKO6   \n",
       "\n",
       "                    reviewerName     helpful  \\\n",
       "0                          Barry  [1.0, 2.0]   \n",
       "1                        J Ayles  [0.0, 0.0]   \n",
       "2  Helene M. Jolley \"Shopaholic\"  [0.0, 0.0]   \n",
       "3                   amazonfan111  [0.0, 0.0]   \n",
       "4                         sherri  [0.0, 0.0]   \n",
       "\n",
       "                                          reviewText  overall  \\\n",
       "0  it's ok, but not great fun.  maybe it just mak...        3   \n",
       "1  I love this Air-soft rifle. I love the scope i...        5   \n",
       "2  Bought this for my new bathroom and though it ...        3   \n",
       "3  I guess the description of \"4 lbs of force nee...        3   \n",
       "4  Only receive 5 of the 10? What's up with that?...        1   \n",
       "\n",
       "                                             summary  unixReviewTime  \\\n",
       "0                  Not the first game I reach for...      1357689600   \n",
       "1                                               Cool      1314230400   \n",
       "2                             Flimsy but serviceable      1341705600   \n",
       "3                       \"Medium weight\" = very light      1377302400   \n",
       "4  Only received 5 of the 10! What's up with that...      1390867200   \n",
       "\n",
       "    reviewTime             category  \\\n",
       "0   01 9, 2013       Toys_and_Games   \n",
       "1  08 25, 2011  Sports_and_Outdoors   \n",
       "2   07 8, 2012     Home_and_Kitchen   \n",
       "3  08 24, 2013  Sports_and_Outdoors   \n",
       "4  01 28, 2014       Toys_and_Games   \n",
       "\n",
       "                            BehaviouralFeatureResult  label  \n",
       "0  {'CS': 0.5259506810000001, 'MNR': 0.0, 'RB': 0...    0.0  \n",
       "1  {'CS': 0.0, 'MNR': 0.0, 'RB': 0.0, 'RC': 0.0, ...    0.0  \n",
       "2  {'CS': 0.639148171, 'MNR': 0.0, 'RB': 0.0, 'RC...    0.0  \n",
       "3  {'CS': 0.360997436, 'MNR': 1.0, 'RB': 1.0, 'RC...    0.0  \n",
       "4  {'CS': 0.0, 'MNR': 0.0, 'RB': 0.0, 'RC': 0.0, ...    0.0  "
      ]
     },
     "execution_count": 5,
     "metadata": {},
     "output_type": "execute_result"
    }
   ],
   "source": [
    "df.head(5)"
   ]
  },
  {
   "cell_type": "code",
   "execution_count": 6,
   "metadata": {},
   "outputs": [
    {
     "data": {
      "text/plain": [
       "(99939, 13)"
      ]
     },
     "execution_count": 6,
     "metadata": {},
     "output_type": "execute_result"
    }
   ],
   "source": [
    "df.shape"
   ]
  },
  {
   "cell_type": "code",
   "execution_count": 7,
   "metadata": {},
   "outputs": [
    {
     "data": {
      "text/plain": [
       "_id                          object\n",
       "reviewerID                   object\n",
       "asin                         object\n",
       "reviewerName                 object\n",
       "helpful                      object\n",
       "reviewText                   object\n",
       "overall                       int64\n",
       "summary                      object\n",
       "unixReviewTime                int64\n",
       "reviewTime                   object\n",
       "category                     object\n",
       "BehaviouralFeatureResult     object\n",
       "label                       float64\n",
       "dtype: object"
      ]
     },
     "execution_count": 7,
     "metadata": {},
     "output_type": "execute_result"
    }
   ],
   "source": [
    "df.dtypes"
   ]
  },
  {
   "cell_type": "code",
   "execution_count": 8,
   "metadata": {},
   "outputs": [],
   "source": [
    "import seaborn as sns\n",
    "import matplotlib.pyplot as plt\n",
    "%matplotlib inline"
   ]
  },
  {
   "cell_type": "code",
   "execution_count": 9,
   "metadata": {},
   "outputs": [
    {
     "data": {
      "text/plain": [
       "_id                             0\n",
       "reviewerID                      0\n",
       "asin                            0\n",
       "reviewerName                  724\n",
       "helpful                         0\n",
       "reviewText                      0\n",
       "overall                         0\n",
       "summary                         0\n",
       "unixReviewTime                  0\n",
       "reviewTime                      0\n",
       "category                        0\n",
       "BehaviouralFeatureResult        0\n",
       "label                       80190\n",
       "dtype: int64"
      ]
     },
     "execution_count": 9,
     "metadata": {},
     "output_type": "execute_result"
    }
   ],
   "source": [
    "df.isna().sum()"
   ]
  },
  {
   "cell_type": "code",
   "execution_count": 10,
   "metadata": {},
   "outputs": [],
   "source": [
    "df = df.drop('label', axis = 1)"
   ]
  },
  {
   "cell_type": "code",
   "execution_count": 11,
   "metadata": {},
   "outputs": [
    {
     "data": {
      "text/plain": [
       "_id                           0\n",
       "reviewerID                    0\n",
       "asin                          0\n",
       "reviewerName                724\n",
       "helpful                       0\n",
       "reviewText                    0\n",
       "overall                       0\n",
       "summary                       0\n",
       "unixReviewTime                0\n",
       "reviewTime                    0\n",
       "category                      0\n",
       "BehaviouralFeatureResult      0\n",
       "dtype: int64"
      ]
     },
     "execution_count": 11,
     "metadata": {},
     "output_type": "execute_result"
    }
   ],
   "source": [
    "df.isna().sum()"
   ]
  },
  {
   "cell_type": "code",
   "execution_count": 12,
   "metadata": {},
   "outputs": [],
   "source": [
    "df = df.drop('reviewerName', axis = 1)"
   ]
  },
  {
   "cell_type": "code",
   "execution_count": 13,
   "metadata": {},
   "outputs": [
    {
     "data": {
      "text/plain": [
       "_id                         0\n",
       "reviewerID                  0\n",
       "asin                        0\n",
       "helpful                     0\n",
       "reviewText                  0\n",
       "overall                     0\n",
       "summary                     0\n",
       "unixReviewTime              0\n",
       "reviewTime                  0\n",
       "category                    0\n",
       "BehaviouralFeatureResult    0\n",
       "dtype: int64"
      ]
     },
     "execution_count": 13,
     "metadata": {},
     "output_type": "execute_result"
    }
   ],
   "source": [
    "df.isna().sum()"
   ]
  },
  {
   "cell_type": "markdown",
   "metadata": {},
   "source": [
    "# Visualizing"
   ]
  },
  {
   "cell_type": "code",
   "execution_count": 14,
   "metadata": {},
   "outputs": [],
   "source": [
    "def cat_count(col):\n",
    "    count = df[col].value_counts()\n",
    "    return count"
   ]
  },
  {
   "cell_type": "code",
   "execution_count": 15,
   "metadata": {},
   "outputs": [
    {
     "data": {
      "image/png": "[encoded data removed]",
      "text/plain": [
       "<Figure size 640x480 with 1 Axes>"
      ]
     },
     "metadata": {},
     "output_type": "display_data"
    },
    {
     "name": "stdout",
     "output_type": "stream",
     "text": [
      "CPU times: total: 188 ms\n",
      "Wall time: 223 ms\n"
     ]
    }
   ],
   "source": [
    "%%time\n",
    "sns.countplot(x='category', data=df)\n",
    "plt.title('Reviews')\n",
    "plt.show()"
   ]
  },
  {
   "cell_type": "code",
   "execution_count": 16,
   "metadata": {},
   "outputs": [
    {
     "data": {
      "image/png": "[encoded data removed]",
      "text/plain": [
       "<Figure size 1500x500 with 1 Axes>"
      ]
     },
     "metadata": {},
     "output_type": "display_data"
    },
    {
     "name": "stdout",
     "output_type": "stream",
     "text": [
      "CPU times: total: 219 ms\n",
      "Wall time: 205 ms\n"
     ]
    }
   ],
   "source": [
    "%%time\n",
    "sns.countplot(x='category',data=df)\n",
    "plt.title('Category Counts')\n",
    "fig = plt.gcf()\n",
    "fig.set_size_inches( 15, 5)\n",
    "plt.show()"
   ]
  },
  {
   "cell_type": "code",
   "execution_count": 17,
   "metadata": {},
   "outputs": [
    {
     "data": {
      "text/plain": [
       "Sports_and_Outdoors            20147\n",
       "Cell_Phones_and_Accessories    17964\n",
       "Clothing_Shoes_and_Jewelry     17641\n",
       "Toys_and_Games                 15232\n",
       "Electronics                    14602\n",
       "Home_and_Kitchen               14353\n",
       "Name: category, dtype: int64"
      ]
     },
     "execution_count": 17,
     "metadata": {},
     "output_type": "execute_result"
    }
   ],
   "source": [
    "cat_count('category')"
   ]
  },
  {
   "cell_type": "code",
   "execution_count": 19,
   "metadata": {},
   "outputs": [
    {
     "data": {
      "image/png": "[encoded data removed]",
      "text/plain": [
       "<Figure size 1500x500 with 1 Axes>"
      ]
     },
     "metadata": {},
     "output_type": "display_data"
    },
    {
     "name": "stdout",
     "output_type": "stream",
     "text": [
      "CPU times: total: 93.8 ms\n",
      "Wall time: 88.1 ms\n"
     ]
    }
   ],
   "source": [
    "%%time\n",
    "sns.countplot(x='overall',data=df)\n",
    "plt.title('Category Counts')\n",
    "fig = plt.gcf()\n",
    "fig.set_size_inches( 15, 5)\n",
    "plt.show()"
   ]
  },
  {
   "cell_type": "code",
   "execution_count": 20,
   "metadata": {},
   "outputs": [
    {
     "data": {
      "text/plain": [
       "5    27966\n",
       "1    25473\n",
       "3    21736\n",
       "2    15774\n",
       "4     8990\n",
       "Name: overall, dtype: int64"
      ]
     },
     "execution_count": 20,
     "metadata": {},
     "output_type": "execute_result"
    }
   ],
   "source": [
    "cat_count('overall')"
   ]
  },
  {
   "cell_type": "code",
   "execution_count": 32,
   "metadata": {},
   "outputs": [
    {
     "data": {
      "image/png": "[encoded data removed]",
      "text/plain": [
       "<Figure size 1500x500 with 1 Axes>"
      ]
     },
     "metadata": {},
     "output_type": "display_data"
    },
    {
     "name": "stdout",
     "output_type": "stream",
     "text": [
      "CPU times: total: 11.8 s\n",
      "Wall time: 11.8 s\n"
     ]
    }
   ],
   "source": [
    "%%time\n",
    "sns.countplot(x='reviewTime',data=df)\n",
    "plt.title('Review Time Counts')\n",
    "fig = plt.gcf()\n",
    "fig.set_size_inches( 15, 5)\n",
    "plt.show()"
   ]
  },
  {
   "cell_type": "code",
   "execution_count": 33,
   "metadata": {},
   "outputs": [
    {
     "data": {
      "text/plain": [
       "01 7, 2014     293\n",
       "01 3, 2014     278\n",
       "01 8, 2014     250\n",
       "12 31, 2013    246\n",
       "07 11, 2014    241\n",
       "              ... \n",
       "10 21, 2006      1\n",
       "03 7, 2005       1\n",
       "12 14, 2004      1\n",
       "07 7, 2004       1\n",
       "08 5, 2006       1\n",
       "Name: reviewTime, Length: 3734, dtype: int64"
      ]
     },
     "execution_count": 33,
     "metadata": {},
     "output_type": "execute_result"
    }
   ],
   "source": [
    "cat_count('reviewTime')"
   ]
  },
  {
   "cell_type": "code",
   "execution_count": 26,
   "metadata": {},
   "outputs": [
    {
     "data": {
      "text/html": [
       "<div>\n",
       "<style scoped>\n",
       "    .dataframe tbody tr th:only-of-type {\n",
       "        vertical-align: middle;\n",
       "    }\n",
       "\n",
       "    .dataframe tbody tr th {\n",
       "        vertical-align: top;\n",
       "    }\n",
       "\n",
       "    .dataframe thead th {\n",
       "        text-align: right;\n",
       "    }\n",
       "</style>\n",
       "<table border=\"1\" class=\"dataframe\">\n",
       "  <thead>\n",
       "    <tr style=\"text-align: right;\">\n",
       "      <th></th>\n",
       "      <th>_id</th>\n",
       "      <th>reviewerID</th>\n",
       "      <th>asin</th>\n",
       "      <th>helpful</th>\n",
       "      <th>reviewText</th>\n",
       "      <th>overall</th>\n",
       "      <th>summary</th>\n",
       "      <th>unixReviewTime</th>\n",
       "      <th>reviewTime</th>\n",
       "      <th>category</th>\n",
       "      <th>BehaviouralFeatureResult</th>\n",
       "      <th>length</th>\n",
       "    </tr>\n",
       "  </thead>\n",
       "  <tbody>\n",
       "    <tr>\n",
       "      <th>0</th>\n",
       "      <td>{'$oid': '5a421d732bfbb88f180e24d2'}</td>\n",
       "      <td>A3ITLRYWLKJP5B</td>\n",
       "      <td>B000809PCG</td>\n",
       "      <td>[1.0, 2.0]</td>\n",
       "      <td>it's ok, but not great fun.  maybe it just mak...</td>\n",
       "      <td>3</td>\n",
       "      <td>Not the first game I reach for...</td>\n",
       "      <td>1357689600</td>\n",
       "      <td>01 9, 2013</td>\n",
       "      <td>Toys_and_Games</td>\n",
       "      <td>{'CS': 0.5259506810000001, 'MNR': 0.0, 'RB': 0...</td>\n",
       "      <td>412</td>\n",
       "    </tr>\n",
       "    <tr>\n",
       "      <th>1</th>\n",
       "      <td>{'$oid': '5a421d732bfbb88f180e24d3'}</td>\n",
       "      <td>AA65S7IF7V9GU</td>\n",
       "      <td>B004Y6F9KW</td>\n",
       "      <td>[0.0, 0.0]</td>\n",
       "      <td>I love this Air-soft rifle. I love the scope i...</td>\n",
       "      <td>5</td>\n",
       "      <td>Cool</td>\n",
       "      <td>1314230400</td>\n",
       "      <td>08 25, 2011</td>\n",
       "      <td>Sports_and_Outdoors</td>\n",
       "      <td>{'CS': 0.0, 'MNR': 0.0, 'RB': 0.0, 'RC': 0.0, ...</td>\n",
       "      <td>257</td>\n",
       "    </tr>\n",
       "    <tr>\n",
       "      <th>2</th>\n",
       "      <td>{'$oid': '5a421d732bfbb88f180e24d4'}</td>\n",
       "      <td>A3EBF7VUVF09GW</td>\n",
       "      <td>B0041RR5X8</td>\n",
       "      <td>[0.0, 0.0]</td>\n",
       "      <td>Bought this for my new bathroom and though it ...</td>\n",
       "      <td>3</td>\n",
       "      <td>Flimsy but serviceable</td>\n",
       "      <td>1341705600</td>\n",
       "      <td>07 8, 2012</td>\n",
       "      <td>Home_and_Kitchen</td>\n",
       "      <td>{'CS': 0.639148171, 'MNR': 0.0, 'RB': 0.0, 'RC...</td>\n",
       "      <td>358</td>\n",
       "    </tr>\n",
       "    <tr>\n",
       "      <th>3</th>\n",
       "      <td>{'$oid': '5a421d732bfbb88f180e24d5'}</td>\n",
       "      <td>A14YSDP7TH705X</td>\n",
       "      <td>B00066D6KO</td>\n",
       "      <td>[0.0, 0.0]</td>\n",
       "      <td>I guess the description of \"4 lbs of force nee...</td>\n",
       "      <td>3</td>\n",
       "      <td>\"Medium weight\" = very light</td>\n",
       "      <td>1377302400</td>\n",
       "      <td>08 24, 2013</td>\n",
       "      <td>Sports_and_Outdoors</td>\n",
       "      <td>{'CS': 0.360997436, 'MNR': 1.0, 'RB': 1.0, 'RC...</td>\n",
       "      <td>278</td>\n",
       "    </tr>\n",
       "    <tr>\n",
       "      <th>4</th>\n",
       "      <td>{'$oid': '5a421d732bfbb88f180e24d6'}</td>\n",
       "      <td>A2VNHQNN1T3KKN</td>\n",
       "      <td>B0057MGKO6</td>\n",
       "      <td>[0.0, 0.0]</td>\n",
       "      <td>Only receive 5 of the 10? What's up with that?...</td>\n",
       "      <td>1</td>\n",
       "      <td>Only received 5 of the 10! What's up with that...</td>\n",
       "      <td>1390867200</td>\n",
       "      <td>01 28, 2014</td>\n",
       "      <td>Toys_and_Games</td>\n",
       "      <td>{'CS': 0.0, 'MNR': 0.0, 'RB': 0.0, 'RC': 0.0, ...</td>\n",
       "      <td>105</td>\n",
       "    </tr>\n",
       "  </tbody>\n",
       "</table>\n",
       "</div>"
      ],
      "text/plain": [
       "                                    _id      reviewerID        asin  \\\n",
       "0  {'$oid': '5a421d732bfbb88f180e24d2'}  A3ITLRYWLKJP5B  B000809PCG   \n",
       "1  {'$oid': '5a421d732bfbb88f180e24d3'}   AA65S7IF7V9GU  B004Y6F9KW   \n",
       "2  {'$oid': '5a421d732bfbb88f180e24d4'}  A3EBF7VUVF09GW  B0041RR5X8   \n",
       "3  {'$oid': '5a421d732bfbb88f180e24d5'}  A14YSDP7TH705X  B00066D6KO   \n",
       "4  {'$oid': '5a421d732bfbb88f180e24d6'}  A2VNHQNN1T3KKN  B0057MGKO6   \n",
       "\n",
       "      helpful                                         reviewText  overall  \\\n",
       "0  [1.0, 2.0]  it's ok, but not great fun.  maybe it just mak...        3   \n",
       "1  [0.0, 0.0]  I love this Air-soft rifle. I love the scope i...        5   \n",
       "2  [0.0, 0.0]  Bought this for my new bathroom and though it ...        3   \n",
       "3  [0.0, 0.0]  I guess the description of \"4 lbs of force nee...        3   \n",
       "4  [0.0, 0.0]  Only receive 5 of the 10? What's up with that?...        1   \n",
       "\n",
       "                                             summary  unixReviewTime  \\\n",
       "0                  Not the first game I reach for...      1357689600   \n",
       "1                                               Cool      1314230400   \n",
       "2                             Flimsy but serviceable      1341705600   \n",
       "3                       \"Medium weight\" = very light      1377302400   \n",
       "4  Only received 5 of the 10! What's up with that...      1390867200   \n",
       "\n",
       "    reviewTime             category  \\\n",
       "0   01 9, 2013       Toys_and_Games   \n",
       "1  08 25, 2011  Sports_and_Outdoors   \n",
       "2   07 8, 2012     Home_and_Kitchen   \n",
       "3  08 24, 2013  Sports_and_Outdoors   \n",
       "4  01 28, 2014       Toys_and_Games   \n",
       "\n",
       "                            BehaviouralFeatureResult  length  \n",
       "0  {'CS': 0.5259506810000001, 'MNR': 0.0, 'RB': 0...     412  \n",
       "1  {'CS': 0.0, 'MNR': 0.0, 'RB': 0.0, 'RC': 0.0, ...     257  \n",
       "2  {'CS': 0.639148171, 'MNR': 0.0, 'RB': 0.0, 'RC...     358  \n",
       "3  {'CS': 0.360997436, 'MNR': 1.0, 'RB': 1.0, 'RC...     278  \n",
       "4  {'CS': 0.0, 'MNR': 0.0, 'RB': 0.0, 'RC': 0.0, ...     105  "
      ]
     },
     "execution_count": 26,
     "metadata": {},
     "output_type": "execute_result"
    }
   ],
   "source": [
    "#CREATING A NEW COLUMN IN THE DATASET FOR THE NUMBER OF WORDS IN THE REVIEW\n",
    "df['length'] = df['reviewText'].apply(len)\n",
    "df.head()"
   ]
  },
  {
   "cell_type": "markdown",
   "metadata": {},
   "source": []
  },
  {
   "cell_type": "code",
   "execution_count": 28,
   "metadata": {},
   "outputs": [
    {
     "data": {
      "text/plain": [
       "<seaborn.axisgrid.FacetGrid at 0x141e372ea90>"
      ]
     },
     "execution_count": 28,
     "metadata": {},
     "output_type": "execute_result"
    },
    {
     "data": {
      "image/png": "[encoded data removed]",
      "text/plain": [
       "<Figure size 1500x300 with 5 Axes>"
      ]
     },
     "metadata": {},
     "output_type": "display_data"
    }
   ],
   "source": [
    "# COMPARING TEXT LENGTH TO STARS\n",
    "graph = sns.FacetGrid(data=df,col='overall')\n",
    "graph.map(plt.hist,'length',bins=50,color='blue')"
   ]
  },
  {
   "cell_type": "code",
   "execution_count": 30,
   "metadata": {},
   "outputs": [
    {
     "name": "stderr",
     "output_type": "stream",
     "text": [
      "C:\\Users\\Suleman\\AppData\\Local\\Temp\\ipykernel_19592\\1636362658.py:2: FutureWarning: The default value of numeric_only in DataFrameGroupBy.mean is deprecated. In a future version, numeric_only will default to False. Either specify numeric_only or select only columns which should be valid for the function.\n",
      "  stval = df.groupby('overall').mean()\n"
     ]
    },
    {
     "data": {
      "text/html": [
       "<div>\n",
       "<style scoped>\n",
       "    .dataframe tbody tr th:only-of-type {\n",
       "        vertical-align: middle;\n",
       "    }\n",
       "\n",
       "    .dataframe tbody tr th {\n",
       "        vertical-align: top;\n",
       "    }\n",
       "\n",
       "    .dataframe thead th {\n",
       "        text-align: right;\n",
       "    }\n",
       "</style>\n",
       "<table border=\"1\" class=\"dataframe\">\n",
       "  <thead>\n",
       "    <tr style=\"text-align: right;\">\n",
       "      <th></th>\n",
       "      <th>unixReviewTime</th>\n",
       "      <th>length</th>\n",
       "    </tr>\n",
       "    <tr>\n",
       "      <th>overall</th>\n",
       "      <th></th>\n",
       "      <th></th>\n",
       "    </tr>\n",
       "  </thead>\n",
       "  <tbody>\n",
       "    <tr>\n",
       "      <th>1</th>\n",
       "      <td>1.350255e+09</td>\n",
       "      <td>367.159306</td>\n",
       "    </tr>\n",
       "    <tr>\n",
       "      <th>2</th>\n",
       "      <td>1.353156e+09</td>\n",
       "      <td>397.566819</td>\n",
       "    </tr>\n",
       "    <tr>\n",
       "      <th>3</th>\n",
       "      <td>1.354452e+09</td>\n",
       "      <td>396.083088</td>\n",
       "    </tr>\n",
       "    <tr>\n",
       "      <th>4</th>\n",
       "      <td>1.353939e+09</td>\n",
       "      <td>377.013571</td>\n",
       "    </tr>\n",
       "    <tr>\n",
       "      <th>5</th>\n",
       "      <td>1.357751e+09</td>\n",
       "      <td>306.618251</td>\n",
       "    </tr>\n",
       "  </tbody>\n",
       "</table>\n",
       "</div>"
      ],
      "text/plain": [
       "         unixReviewTime      length\n",
       "overall                            \n",
       "1          1.350255e+09  367.159306\n",
       "2          1.353156e+09  397.566819\n",
       "3          1.354452e+09  396.083088\n",
       "4          1.353939e+09  377.013571\n",
       "5          1.357751e+09  306.618251"
      ]
     },
     "execution_count": 30,
     "metadata": {},
     "output_type": "execute_result"
    }
   ],
   "source": [
    "# GETTING THE MEAN VALUES OF THE VOTE COLUMNS WRT THE STARS ON THE REVIEW\n",
    "stval = df.groupby('overall').mean()\n",
    "stval"
   ]
  },
  {
   "cell_type": "code",
   "execution_count": 31,
   "metadata": {},
   "outputs": [],
   "source": [
    "df['year'] = pd.DatetimeIndex(df['reviewTime']).year\n",
    "df['month'] = pd.DatetimeIndex(df['reviewTime']).month"
   ]
  },
  {
   "cell_type": "code",
   "execution_count": 34,
   "metadata": {},
   "outputs": [
    {
     "data": {
      "text/html": [
       "<div>\n",
       "<style scoped>\n",
       "    .dataframe tbody tr th:only-of-type {\n",
       "        vertical-align: middle;\n",
       "    }\n",
       "\n",
       "    .dataframe tbody tr th {\n",
       "        vertical-align: top;\n",
       "    }\n",
       "\n",
       "    .dataframe thead th {\n",
       "        text-align: right;\n",
       "    }\n",
       "</style>\n",
       "<table border=\"1\" class=\"dataframe\">\n",
       "  <thead>\n",
       "    <tr style=\"text-align: right;\">\n",
       "      <th></th>\n",
       "      <th>_id</th>\n",
       "      <th>reviewerID</th>\n",
       "      <th>asin</th>\n",
       "      <th>helpful</th>\n",
       "      <th>reviewText</th>\n",
       "      <th>overall</th>\n",
       "      <th>summary</th>\n",
       "      <th>unixReviewTime</th>\n",
       "      <th>reviewTime</th>\n",
       "      <th>category</th>\n",
       "      <th>BehaviouralFeatureResult</th>\n",
       "      <th>length</th>\n",
       "      <th>year</th>\n",
       "      <th>month</th>\n",
       "    </tr>\n",
       "  </thead>\n",
       "  <tbody>\n",
       "    <tr>\n",
       "      <th>0</th>\n",
       "      <td>{'$oid': '5a421d732bfbb88f180e24d2'}</td>\n",
       "      <td>A3ITLRYWLKJP5B</td>\n",
       "      <td>B000809PCG</td>\n",
       "      <td>[1.0, 2.0]</td>\n",
       "      <td>it's ok, but not great fun.  maybe it just mak...</td>\n",
       "      <td>3</td>\n",
       "      <td>Not the first game I reach for...</td>\n",
       "      <td>1357689600</td>\n",
       "      <td>01 9, 2013</td>\n",
       "      <td>Toys_and_Games</td>\n",
       "      <td>{'CS': 0.5259506810000001, 'MNR': 0.0, 'RB': 0...</td>\n",
       "      <td>412</td>\n",
       "      <td>2013</td>\n",
       "      <td>1</td>\n",
       "    </tr>\n",
       "    <tr>\n",
       "      <th>1</th>\n",
       "      <td>{'$oid': '5a421d732bfbb88f180e24d3'}</td>\n",
       "      <td>AA65S7IF7V9GU</td>\n",
       "      <td>B004Y6F9KW</td>\n",
       "      <td>[0.0, 0.0]</td>\n",
       "      <td>I love this Air-soft rifle. I love the scope i...</td>\n",
       "      <td>5</td>\n",
       "      <td>Cool</td>\n",
       "      <td>1314230400</td>\n",
       "      <td>08 25, 2011</td>\n",
       "      <td>Sports_and_Outdoors</td>\n",
       "      <td>{'CS': 0.0, 'MNR': 0.0, 'RB': 0.0, 'RC': 0.0, ...</td>\n",
       "      <td>257</td>\n",
       "      <td>2011</td>\n",
       "      <td>8</td>\n",
       "    </tr>\n",
       "    <tr>\n",
       "      <th>2</th>\n",
       "      <td>{'$oid': '5a421d732bfbb88f180e24d4'}</td>\n",
       "      <td>A3EBF7VUVF09GW</td>\n",
       "      <td>B0041RR5X8</td>\n",
       "      <td>[0.0, 0.0]</td>\n",
       "      <td>Bought this for my new bathroom and though it ...</td>\n",
       "      <td>3</td>\n",
       "      <td>Flimsy but serviceable</td>\n",
       "      <td>1341705600</td>\n",
       "      <td>07 8, 2012</td>\n",
       "      <td>Home_and_Kitchen</td>\n",
       "      <td>{'CS': 0.639148171, 'MNR': 0.0, 'RB': 0.0, 'RC...</td>\n",
       "      <td>358</td>\n",
       "      <td>2012</td>\n",
       "      <td>7</td>\n",
       "    </tr>\n",
       "    <tr>\n",
       "      <th>3</th>\n",
       "      <td>{'$oid': '5a421d732bfbb88f180e24d5'}</td>\n",
       "      <td>A14YSDP7TH705X</td>\n",
       "      <td>B00066D6KO</td>\n",
       "      <td>[0.0, 0.0]</td>\n",
       "      <td>I guess the description of \"4 lbs of force nee...</td>\n",
       "      <td>3</td>\n",
       "      <td>\"Medium weight\" = very light</td>\n",
       "      <td>1377302400</td>\n",
       "      <td>08 24, 2013</td>\n",
       "      <td>Sports_and_Outdoors</td>\n",
       "      <td>{'CS': 0.360997436, 'MNR': 1.0, 'RB': 1.0, 'RC...</td>\n",
       "      <td>278</td>\n",
       "      <td>2013</td>\n",
       "      <td>8</td>\n",
       "    </tr>\n",
       "    <tr>\n",
       "      <th>4</th>\n",
       "      <td>{'$oid': '5a421d732bfbb88f180e24d6'}</td>\n",
       "      <td>A2VNHQNN1T3KKN</td>\n",
       "      <td>B0057MGKO6</td>\n",
       "      <td>[0.0, 0.0]</td>\n",
       "      <td>Only receive 5 of the 10? What's up with that?...</td>\n",
       "      <td>1</td>\n",
       "      <td>Only received 5 of the 10! What's up with that...</td>\n",
       "      <td>1390867200</td>\n",
       "      <td>01 28, 2014</td>\n",
       "      <td>Toys_and_Games</td>\n",
       "      <td>{'CS': 0.0, 'MNR': 0.0, 'RB': 0.0, 'RC': 0.0, ...</td>\n",
       "      <td>105</td>\n",
       "      <td>2014</td>\n",
       "      <td>1</td>\n",
       "    </tr>\n",
       "    <tr>\n",
       "      <th>...</th>\n",
       "      <td>...</td>\n",
       "      <td>...</td>\n",
       "      <td>...</td>\n",
       "      <td>...</td>\n",
       "      <td>...</td>\n",
       "      <td>...</td>\n",
       "      <td>...</td>\n",
       "      <td>...</td>\n",
       "      <td>...</td>\n",
       "      <td>...</td>\n",
       "      <td>...</td>\n",
       "      <td>...</td>\n",
       "      <td>...</td>\n",
       "      <td>...</td>\n",
       "    </tr>\n",
       "    <tr>\n",
       "      <th>99934</th>\n",
       "      <td>{'$oid': '5a421d762bfbb88f180fab93'}</td>\n",
       "      <td>A372IAO7CEIQD6</td>\n",
       "      <td>B00KDZK0FW</td>\n",
       "      <td>[0.0, 0.0]</td>\n",
       "      <td>Too big. Order down.</td>\n",
       "      <td>2</td>\n",
       "      <td>Two Stars</td>\n",
       "      <td>1405382400</td>\n",
       "      <td>07 15, 2014</td>\n",
       "      <td>Clothing_Shoes_and_Jewelry</td>\n",
       "      <td>{'CS': 1.0, 'MNR': 1.0, 'RB': 1.0, 'RC': 1.0, ...</td>\n",
       "      <td>20</td>\n",
       "      <td>2014</td>\n",
       "      <td>7</td>\n",
       "    </tr>\n",
       "    <tr>\n",
       "      <th>99935</th>\n",
       "      <td>{'$oid': '5a421d762bfbb88f180fab94'}</td>\n",
       "      <td>A3BSIQO0LXZYZD</td>\n",
       "      <td>B002GOHV4Q</td>\n",
       "      <td>[0.0, 0.0]</td>\n",
       "      <td>No it did not.  It falls forward when loaded a...</td>\n",
       "      <td>1</td>\n",
       "      <td>Olympia Rolling Shopper</td>\n",
       "      <td>1383436800</td>\n",
       "      <td>11 3, 2013</td>\n",
       "      <td>Home_and_Kitchen</td>\n",
       "      <td>{'CS': 1.0, 'MNR': 1.0, 'RB': 1.0, 'RC': 1.0, ...</td>\n",
       "      <td>168</td>\n",
       "      <td>2013</td>\n",
       "      <td>11</td>\n",
       "    </tr>\n",
       "    <tr>\n",
       "      <th>99936</th>\n",
       "      <td>{'$oid': '5a421d762bfbb88f180fab95'}</td>\n",
       "      <td>A2ATJ3AS7W68XP</td>\n",
       "      <td>B000646S4M</td>\n",
       "      <td>[0.0, 2.0]</td>\n",
       "      <td>Fast, friendly service and the product was jus...</td>\n",
       "      <td>4</td>\n",
       "      <td>Closet rods</td>\n",
       "      <td>1320796800</td>\n",
       "      <td>11 9, 2011</td>\n",
       "      <td>Home_and_Kitchen</td>\n",
       "      <td>{'CS': 0.596284794, 'MNR': 1.0, 'RB': 1.0, 'RC...</td>\n",
       "      <td>121</td>\n",
       "      <td>2011</td>\n",
       "      <td>11</td>\n",
       "    </tr>\n",
       "    <tr>\n",
       "      <th>99937</th>\n",
       "      <td>{'$oid': '5a421d762bfbb88f180fab96'}</td>\n",
       "      <td>A155IIEOH2ECXN</td>\n",
       "      <td>B003FNUOD2</td>\n",
       "      <td>[0.0, 1.0]</td>\n",
       "      <td>A bit pricey but I love him, great final boss ...</td>\n",
       "      <td>5</td>\n",
       "      <td>Prince of Undeath!</td>\n",
       "      <td>1374883200</td>\n",
       "      <td>07 27, 2013</td>\n",
       "      <td>Toys_and_Games</td>\n",
       "      <td>{'CS': 0.45074893600000004, 'MNR': 1.0, 'RB': ...</td>\n",
       "      <td>110</td>\n",
       "      <td>2013</td>\n",
       "      <td>7</td>\n",
       "    </tr>\n",
       "    <tr>\n",
       "      <th>99938</th>\n",
       "      <td>{'$oid': '5a421d762bfbb88f180fab97'}</td>\n",
       "      <td>A24UEF9AXF124O</td>\n",
       "      <td>B00COYOAYW</td>\n",
       "      <td>[3.0, 3.0]</td>\n",
       "      <td>I'm a big fan of iOS and this is a much better...</td>\n",
       "      <td>5</td>\n",
       "      <td>iOS user finds WP very smart</td>\n",
       "      <td>1398470400</td>\n",
       "      <td>04 26, 2014</td>\n",
       "      <td>Cell_Phones_and_Accessories</td>\n",
       "      <td>{'CS': 1.0, 'MNR': 1.0, 'RB': 1.0, 'RC': 1.0, ...</td>\n",
       "      <td>1284</td>\n",
       "      <td>2014</td>\n",
       "      <td>4</td>\n",
       "    </tr>\n",
       "  </tbody>\n",
       "</table>\n",
       "<p>99939 rows × 14 columns</p>\n",
       "</div>"
      ],
      "text/plain": [
       "                                        _id      reviewerID        asin  \\\n",
       "0      {'$oid': '5a421d732bfbb88f180e24d2'}  A3ITLRYWLKJP5B  B000809PCG   \n",
       "1      {'$oid': '5a421d732bfbb88f180e24d3'}   AA65S7IF7V9GU  B004Y6F9KW   \n",
       "2      {'$oid': '5a421d732bfbb88f180e24d4'}  A3EBF7VUVF09GW  B0041RR5X8   \n",
       "3      {'$oid': '5a421d732bfbb88f180e24d5'}  A14YSDP7TH705X  B00066D6KO   \n",
       "4      {'$oid': '5a421d732bfbb88f180e24d6'}  A2VNHQNN1T3KKN  B0057MGKO6   \n",
       "...                                     ...             ...         ...   \n",
       "99934  {'$oid': '5a421d762bfbb88f180fab93'}  A372IAO7CEIQD6  B00KDZK0FW   \n",
       "99935  {'$oid': '5a421d762bfbb88f180fab94'}  A3BSIQO0LXZYZD  B002GOHV4Q   \n",
       "99936  {'$oid': '5a421d762bfbb88f180fab95'}  A2ATJ3AS7W68XP  B000646S4M   \n",
       "99937  {'$oid': '5a421d762bfbb88f180fab96'}  A155IIEOH2ECXN  B003FNUOD2   \n",
       "99938  {'$oid': '5a421d762bfbb88f180fab97'}  A24UEF9AXF124O  B00COYOAYW   \n",
       "\n",
       "          helpful                                         reviewText  overall  \\\n",
       "0      [1.0, 2.0]  it's ok, but not great fun.  maybe it just mak...        3   \n",
       "1      [0.0, 0.0]  I love this Air-soft rifle. I love the scope i...        5   \n",
       "2      [0.0, 0.0]  Bought this for my new bathroom and though it ...        3   \n",
       "3      [0.0, 0.0]  I guess the description of \"4 lbs of force nee...        3   \n",
       "4      [0.0, 0.0]  Only receive 5 of the 10? What's up with that?...        1   \n",
       "...           ...                                                ...      ...   \n",
       "99934  [0.0, 0.0]                               Too big. Order down.        2   \n",
       "99935  [0.0, 0.0]  No it did not.  It falls forward when loaded a...        1   \n",
       "99936  [0.0, 2.0]  Fast, friendly service and the product was jus...        4   \n",
       "99937  [0.0, 1.0]  A bit pricey but I love him, great final boss ...        5   \n",
       "99938  [3.0, 3.0]  I'm a big fan of iOS and this is a much better...        5   \n",
       "\n",
       "                                                 summary  unixReviewTime  \\\n",
       "0                      Not the first game I reach for...      1357689600   \n",
       "1                                                   Cool      1314230400   \n",
       "2                                 Flimsy but serviceable      1341705600   \n",
       "3                           \"Medium weight\" = very light      1377302400   \n",
       "4      Only received 5 of the 10! What's up with that...      1390867200   \n",
       "...                                                  ...             ...   \n",
       "99934                                          Two Stars      1405382400   \n",
       "99935                            Olympia Rolling Shopper      1383436800   \n",
       "99936                                        Closet rods      1320796800   \n",
       "99937                                 Prince of Undeath!      1374883200   \n",
       "99938                       iOS user finds WP very smart      1398470400   \n",
       "\n",
       "        reviewTime                     category  \\\n",
       "0       01 9, 2013               Toys_and_Games   \n",
       "1      08 25, 2011          Sports_and_Outdoors   \n",
       "2       07 8, 2012             Home_and_Kitchen   \n",
       "3      08 24, 2013          Sports_and_Outdoors   \n",
       "4      01 28, 2014               Toys_and_Games   \n",
       "...            ...                          ...   \n",
       "99934  07 15, 2014   Clothing_Shoes_and_Jewelry   \n",
       "99935   11 3, 2013             Home_and_Kitchen   \n",
       "99936   11 9, 2011             Home_and_Kitchen   \n",
       "99937  07 27, 2013               Toys_and_Games   \n",
       "99938  04 26, 2014  Cell_Phones_and_Accessories   \n",
       "\n",
       "                                BehaviouralFeatureResult  length  year  month  \n",
       "0      {'CS': 0.5259506810000001, 'MNR': 0.0, 'RB': 0...     412  2013      1  \n",
       "1      {'CS': 0.0, 'MNR': 0.0, 'RB': 0.0, 'RC': 0.0, ...     257  2011      8  \n",
       "2      {'CS': 0.639148171, 'MNR': 0.0, 'RB': 0.0, 'RC...     358  2012      7  \n",
       "3      {'CS': 0.360997436, 'MNR': 1.0, 'RB': 1.0, 'RC...     278  2013      8  \n",
       "4      {'CS': 0.0, 'MNR': 0.0, 'RB': 0.0, 'RC': 0.0, ...     105  2014      1  \n",
       "...                                                  ...     ...   ...    ...  \n",
       "99934  {'CS': 1.0, 'MNR': 1.0, 'RB': 1.0, 'RC': 1.0, ...      20  2014      7  \n",
       "99935  {'CS': 1.0, 'MNR': 1.0, 'RB': 1.0, 'RC': 1.0, ...     168  2013     11  \n",
       "99936  {'CS': 0.596284794, 'MNR': 1.0, 'RB': 1.0, 'RC...     121  2011     11  \n",
       "99937  {'CS': 0.45074893600000004, 'MNR': 1.0, 'RB': ...     110  2013      7  \n",
       "99938  {'CS': 1.0, 'MNR': 1.0, 'RB': 1.0, 'RC': 1.0, ...    1284  2014      4  \n",
       "\n",
       "[99939 rows x 14 columns]"
      ]
     },
     "execution_count": 34,
     "metadata": {},
     "output_type": "execute_result"
    }
   ],
   "source": [
    "df"
   ]
  },
  {
   "cell_type": "code",
   "execution_count": 36,
   "metadata": {},
   "outputs": [
    {
     "data": {
      "image/png": "[encoded data removed]",
      "text/plain": [
       "<Figure size 1500x500 with 1 Axes>"
      ]
     },
     "metadata": {},
     "output_type": "display_data"
    },
    {
     "name": "stdout",
     "output_type": "stream",
     "text": [
      "CPU times: total: 125 ms\n",
      "Wall time: 127 ms\n"
     ]
    }
   ],
   "source": [
    "%%time\n",
    "sns.countplot(x='year',data=df)\n",
    "plt.title('Category Counts')\n",
    "fig = plt.gcf()\n",
    "fig.set_size_inches( 15, 5)\n",
    "plt.show()"
   ]
  },
  {
   "cell_type": "code",
   "execution_count": 37,
   "metadata": {},
   "outputs": [
    {
     "data": {
      "text/plain": [
       "2013    36888\n",
       "2014    29270\n",
       "2012    14482\n",
       "2011     7618\n",
       "2010     4143\n",
       "2009     2630\n",
       "2008     1803\n",
       "2007     1289\n",
       "2006      685\n",
       "2005      532\n",
       "2004      275\n",
       "2003      157\n",
       "2002       87\n",
       "2001       60\n",
       "2000       20\n",
       "Name: year, dtype: int64"
      ]
     },
     "execution_count": 37,
     "metadata": {},
     "output_type": "execute_result"
    }
   ],
   "source": [
    "cat_count('year')"
   ]
  },
  {
   "cell_type": "code",
   "execution_count": 38,
   "metadata": {},
   "outputs": [
    {
     "data": {
      "image/png": "[encoded data removed]",
      "text/plain": [
       "<Figure size 1500x500 with 1 Axes>"
      ]
     },
     "metadata": {},
     "output_type": "display_data"
    },
    {
     "name": "stdout",
     "output_type": "stream",
     "text": [
      "CPU times: total: 125 ms\n",
      "Wall time: 127 ms\n"
     ]
    }
   ],
   "source": [
    "%%time\n",
    "sns.countplot(x='month',data=df)\n",
    "plt.title('Month Counts')\n",
    "fig = plt.gcf()\n",
    "fig.set_size_inches( 15, 5)\n",
    "plt.show()"
   ]
  },
  {
   "cell_type": "code",
   "execution_count": 39,
   "metadata": {},
   "outputs": [
    {
     "data": {
      "text/plain": [
       "1     12779\n",
       "12    11078\n",
       "3      9553\n",
       "2      9115\n",
       "7      8768\n",
       "6      8559\n",
       "5      8409\n",
       "4      8116\n",
       "11     6675\n",
       "10     5990\n",
       "8      5541\n",
       "9      5356\n",
       "Name: month, dtype: int64"
      ]
     },
     "execution_count": 39,
     "metadata": {},
     "output_type": "execute_result"
    }
   ],
   "source": [
    "cat_count('month')"
   ]
  },
  {
   "cell_type": "code",
   "execution_count": null,
   "metadata": {},
   "outputs": [],
   "source": []
  },
  {
   "cell_type": "code",
   "execution_count": null,
   "metadata": {},
   "outputs": [],
   "source": []
  },
  {
   "cell_type": "code",
   "execution_count": null,
   "metadata": {},
   "outputs": [],
   "source": []
  },
  {
   "cell_type": "code",
   "execution_count": null,
   "metadata": {},
   "outputs": [],
   "source": []
  },
  {
   "cell_type": "markdown",
   "metadata": {},
   "source": [
    "# Data Class"
   ]
  },
  {
   "cell_type": "code",
   "execution_count": 40,
   "metadata": {},
   "outputs": [
    {
     "name": "stdout",
     "output_type": "stream",
     "text": [
      "CPU times: total: 0 ns\n",
      "Wall time: 0 ns\n"
     ]
    }
   ],
   "source": [
    "%%time\n",
    "import random\n",
    "\n",
    "class Review:\n",
    "    def __init__(self, text, score):\n",
    "        self.text = text\n",
    "        self.score = score\n",
    "        self.sentiment = self.get_sentiment()\n",
    "        \n",
    "    def get_sentiment(self):\n",
    "        if self.score <= 2:\n",
    "            return \"NEGATIVE\"\n",
    "        elif self.score == 3:\n",
    "            return \"NEUTRAL\"\n",
    "        else: #Score of 4 or 5\n",
    "            return \"POSITIVE\"\n",
    "\n",
    "class ReviewContainer:\n",
    "    def __init__(self, reviews):\n",
    "        self.reviews = reviews\n",
    "        \n",
    "    def get_text(self):\n",
    "        return [x.text for x in self.reviews]\n",
    "    \n",
    "    def get_sentiment(self):\n",
    "        return [x.sentiment for x in self.reviews]\n",
    "        \n",
    "    def evenly_distribute(self):\n",
    "        negative = list(filter(lambda x: x.sentiment == \"NEGATIVE\", self.reviews))\n",
    "        positive = list(filter(lambda x: x.sentiment == \"POSITIVE\", self.reviews))\n",
    "        positive_shrunk = positive[:len(negative)]\n",
    "        self.reviews = negative + positive_shrunk\n",
    "        random.shuffle(self.reviews)"
   ]
  },
  {
   "cell_type": "markdown",
   "metadata": {},
   "source": [
    "# Simplifying the Data"
   ]
  },
  {
   "cell_type": "code",
   "execution_count": 41,
   "metadata": {
    "scrolled": true
   },
   "outputs": [
    {
     "name": "stdout",
     "output_type": "stream",
     "text": [
      "Text:  I guess the description of \"4 lbs of force needed\" didn't make much sense to me when I read it - as it is clearly very light for water use. Also I thought it would be heavy enough to stand on in the water (using 1 with a foot on either side) but it is not large enough for that.\n",
      "Score:  3\n",
      "Sentiment:  NEUTRAL\n",
      "CPU times: total: 46.9 ms\n",
      "Wall time: 56.3 ms\n"
     ]
    }
   ],
   "source": [
    "%%time\n",
    "review = [Review(x, y) for x, y in zip(df['reviewText'], df['overall'])]\n",
    "print('Text: ',review[3].text)\n",
    "print('Score: ' ,review[3].score)\n",
    "print('Sentiment: ' ,review[3].sentiment)"
   ]
  },
  {
   "cell_type": "markdown",
   "metadata": {},
   "source": [
    "# Preparing the Data"
   ]
  },
  {
   "cell_type": "code",
   "execution_count": 42,
   "metadata": {},
   "outputs": [
    {
     "name": "stdout",
     "output_type": "stream",
     "text": [
      "CPU times: total: 125 ms\n",
      "Wall time: 329 ms\n"
     ]
    }
   ],
   "source": [
    "%%time\n",
    "from sklearn.model_selection import train_test_split\n",
    "train,test = train_test_split(review,test_size=0.25,random_state=42)\n",
    "\n",
    "train_container = ReviewContainer(train)\n",
    "\n",
    "test_container = ReviewContainer(test)"
   ]
  },
  {
   "cell_type": "code",
   "execution_count": 43,
   "metadata": {},
   "outputs": [
    {
     "name": "stdout",
     "output_type": "stream",
     "text": [
      "27637\n",
      "31014\n",
      "CPU times: total: 93.8 ms\n",
      "Wall time: 94.2 ms\n"
     ]
    }
   ],
   "source": [
    "%%time\n",
    "train_container.evenly_distribute()\n",
    "train_x = train_container.get_text()\n",
    "train_y = train_container.get_sentiment()\n",
    "\n",
    "test_container.evenly_distribute()\n",
    "test_x = test_container.get_text()\n",
    "test_y = test_container.get_sentiment()\n",
    "\n",
    "print(train_y.count(\"POSITIVE\"))\n",
    "print(train_y.count(\"NEGATIVE\"))"
   ]
  },
  {
   "cell_type": "markdown",
   "metadata": {},
   "source": [
    "# Vectorization"
   ]
  },
  {
   "cell_type": "code",
   "execution_count": 44,
   "metadata": {},
   "outputs": [
    {
     "name": "stdout",
     "output_type": "stream",
     "text": [
      "I ordered 2 \"Otter Boxes\" for iPhone 4's. They arrived quickly and looked good but both of them fell apart after a month. I had used the real products previously and they were excellent. I suspect the replacements were counterfeit. Buyer beware?!?!\n",
      "[[0. 0. 0. ... 0. 0. 0.]]\n",
      "CPU times: total: 2.72 s\n",
      "Wall time: 2.78 s\n"
     ]
    }
   ],
   "source": [
    "%%time\n",
    "from sklearn.feature_extraction.text import CountVectorizer, TfidfVectorizer\n",
    "\n",
    "# This book is great\n",
    "# This book was so bad\n",
    "\n",
    "vectorizer = TfidfVectorizer()\n",
    "train_x_vectors = vectorizer.fit_transform(train_x)\n",
    "\n",
    "test_x_vectors = vectorizer.transform(test_x)\n",
    "\n",
    "print(train_x[3])\n",
    "print(train_x_vectors[3].toarray())"
   ]
  },
  {
   "cell_type": "markdown",
   "metadata": {},
   "source": [
    "# Classification"
   ]
  },
  {
   "cell_type": "markdown",
   "metadata": {},
   "source": [
    "## Linear SVM"
   ]
  },
  {
   "cell_type": "code",
   "execution_count": 45,
   "metadata": {},
   "outputs": [
    {
     "name": "stdout",
     "output_type": "stream",
     "text": [
      "Fell apart within 5 minutes of use.  I didn't expect much for the price but would have been nice to make it through the night.\n",
      "CPU times: total: 13min 59s\n",
      "Wall time: 14min\n"
     ]
    },
    {
     "data": {
      "text/plain": [
       "array(['NEGATIVE'], dtype='<U8')"
      ]
     },
     "execution_count": 45,
     "metadata": {},
     "output_type": "execute_result"
    }
   ],
   "source": [
    "%%time\n",
    "from sklearn import svm\n",
    "\n",
    "clf_svm = svm.SVC(kernel='linear')\n",
    "\n",
    "clf_svm.fit(train_x_vectors, train_y)\n",
    "\n",
    "print(test_x[3])\n",
    "clf_svm.predict(test_x_vectors[3])"
   ]
  },
  {
   "cell_type": "markdown",
   "metadata": {},
   "source": [
    "## Decision Tree"
   ]
  },
  {
   "cell_type": "code",
   "execution_count": 46,
   "metadata": {},
   "outputs": [
    {
     "name": "stdout",
     "output_type": "stream",
     "text": [
      "CPU times: total: 56.8 s\n",
      "Wall time: 56.8 s\n"
     ]
    },
    {
     "data": {
      "text/plain": [
       "array(['POSITIVE'], dtype='<U8')"
      ]
     },
     "execution_count": 46,
     "metadata": {},
     "output_type": "execute_result"
    }
   ],
   "source": [
    "%%time\n",
    "from sklearn.tree import DecisionTreeClassifier\n",
    "\n",
    "clf_dec = DecisionTreeClassifier()\n",
    "clf_dec.fit(train_x_vectors, train_y)\n",
    "\n",
    "clf_dec.predict(test_x_vectors[0])"
   ]
  },
  {
   "cell_type": "markdown",
   "metadata": {},
   "source": [
    "## Score of each classifier"
   ]
  },
  {
   "cell_type": "code",
   "execution_count": 47,
   "metadata": {},
   "outputs": [
    {
     "name": "stdout",
     "output_type": "stream",
     "text": [
      "0.9009819967266776\n",
      "0.7666223404255319\n"
     ]
    }
   ],
   "source": [
    "print(clf_svm.score(test_x_vectors, test_y))\n",
    "print(clf_dec.score(test_x_vectors, test_y))"
   ]
  },
  {
   "cell_type": "markdown",
   "metadata": {},
   "source": [
    "## F1 score of SVM"
   ]
  },
  {
   "cell_type": "code",
   "execution_count": 48,
   "metadata": {},
   "outputs": [
    {
     "data": {
      "text/plain": [
       "array([0.89520407, 0.90615608])"
      ]
     },
     "execution_count": 48,
     "metadata": {},
     "output_type": "execute_result"
    }
   ],
   "source": [
    "from sklearn.metrics import f1_score\n",
    "\n",
    "f1_score(test_y, clf_svm.predict(test_x_vectors), average=None, labels=[\"POSITIVE\", \"NEGATIVE\"])"
   ]
  },
  {
   "cell_type": "markdown",
   "metadata": {},
   "source": [
    "## Testing the Model"
   ]
  },
  {
   "cell_type": "code",
   "execution_count": 49,
   "metadata": {},
   "outputs": [
    {
     "name": "stdout",
     "output_type": "stream",
     "text": [
      "CPU times: total: 15.6 ms\n",
      "Wall time: 24 ms\n"
     ]
    },
    {
     "data": {
      "text/plain": [
       "array(['NEGATIVE', 'POSITIVE', 'NEGATIVE'], dtype='<U8')"
      ]
     },
     "execution_count": 49,
     "metadata": {},
     "output_type": "execute_result"
    }
   ],
   "source": [
    "%%time\n",
    "test_set = ['do not buy', \"i would definetly recommend\", 'worst book EVER!']\n",
    "new_test = vectorizer.transform(test_set)\n",
    "\n",
    "clf_svm.predict(new_test)"
   ]
  },
  {
   "cell_type": "markdown",
   "metadata": {},
   "source": [
    "## Visualization"
   ]
  },
  {
   "cell_type": "code",
   "execution_count": 50,
   "metadata": {},
   "outputs": [
    {
     "data": {
      "image/png": "[encoded data removed]",
      "text/plain": [
       "<Figure size 640x480 with 2 Axes>"
      ]
     },
     "metadata": {},
     "output_type": "display_data"
    },
    {
     "name": "stdout",
     "output_type": "stream",
     "text": [
      "CPU times: total: 2min 14s\n",
      "Wall time: 2min 14s\n"
     ]
    }
   ],
   "source": [
    "%%time\n",
    "import matplotlib.pyplot as plt\n",
    "from collections import Counter\n",
    "\n",
    "x=list(clf_svm.predict(test_x_vectors))\n",
    "\n",
    "a1=(list(Counter(x).keys())) # unique values\n",
    "a2=(list(Counter(x).values())) # counts the elements' frequency\n",
    "\n",
    "plt.subplot(1,2,1)\n",
    "plt.title(\"Predicted\")\n",
    "plt.pie(a2,labels=a1,autopct='%1.1f%%',colors=['c','lime'])\n",
    "\n",
    "b1=(list(Counter(test_y).keys())) \n",
    "b2=(list(Counter(test_y).values())) \n",
    "\n",
    "plt.subplot(1,2,2)\n",
    "plt.title(\"Actual\")\n",
    "plt.pie(b2,labels=b1,autopct='%1.1f%%',colors=['c','lime'])\n",
    "\n",
    "plt.show()"
   ]
  },
  {
   "cell_type": "code",
   "execution_count": 5,
   "metadata": {},
   "outputs": [
    {
     "data": {
      "image/png": "[encoded data removed]",
      "text/plain": [
       "<Figure size 640x480 with 1 Axes>"
      ]
     },
     "metadata": {},
     "output_type": "display_data"
    }
   ],
   "source": [
    "import pandas as pd\n",
    "import matplotlib.pyplot as plt\n",
    "cpu_time_HDP = [0.182, 0.294, 0.237, 0.199, 0.221]\n",
    "memory_HDP = [787.47, 742.45 , 792.566, 774.56, 786.12]\n",
    "\n",
    "\n",
    "plt.plot(cpu_time_HDP, memory_HDP)\n",
    "plt.title('Memory Usage vs CPU Time for Hadoop')\n",
    "plt.xlabel('CPU Time')\n",
    "plt.ylabel('Memory Usage')\n",
    "plt.show()"
   ]
  },
  {
   "cell_type": "code",
   "execution_count": 6,
   "metadata": {},
   "outputs": [
    {
     "data": {
      "image/png": "[encoded data removed]",
      "text/plain": [
       "<Figure size 640x480 with 1 Axes>"
      ]
     },
     "metadata": {},
     "output_type": "display_data"
    }
   ],
   "source": [
    "cpu_time_PY = [0.318, 0.301, 0.3506, 0.3506, 0.28]\n",
    "memory_PY = [14.58, 14.37, 14.62, 14.66, 14.52]\n",
    "\n",
    "\n",
    "plt.plot(cpu_time_PY, memory_PY)\n",
    "plt.title('Memory Usage vs CPU Time for Python')\n",
    "plt.xlabel('CPU Time')\n",
    "plt.ylabel('Memory Usage')\n",
    "plt.show()"
   ]
  },
  {
   "cell_type": "code",
   "execution_count": 21,
   "metadata": {},
   "outputs": [
    {
     "data": {
      "image/png": "[encoded data removed]",
      "text/plain": [
       "<Figure size 1000x500 with 1 Axes>"
      ]
     },
     "metadata": {},
     "output_type": "display_data"
    }
   ],
   "source": [
    "# Numbers of pairs of bars you want\n",
    "N = 5\n",
    "\n",
    "# Data on X-axis\n",
    "\n",
    "# Specify the values of blue bars (height)\n",
    "HDP_cpu = (0.182, 0.294, 0.237, 0.199, 0.221)\n",
    "# Specify the values of orange bars (height)\n",
    "PY_cpu = (0.318, 0.301, 0.3506, 0.3506, 0.28)\n",
    "\n",
    "# Position of bars on x-axis\n",
    "ind = np.arange(N)\n",
    "\n",
    "# Figure size\n",
    "plt.figure(figsize=(10,5))\n",
    "\n",
    "# Width of a bar \n",
    "width = 0.3       \n",
    "\n",
    "# Plotting\n",
    "plt.bar(ind, HDP_cpu , width, label='Hadoop CPU Time')\n",
    "plt.bar(ind + width, PY_cpu, width, label='Pyhton CPU Time')\n",
    "\n",
    "plt.xlabel('CPU Times')\n",
    "plt.ylabel('Product IDs')\n",
    "plt.title('Memory Usage for Hadoop VS Python')\n",
    "\n",
    "# xticks()\n",
    "# First argument - A list of positions at which ticks should be placed\n",
    "# Second argument -  A list of labels to place at the given locations\n",
    "plt.xticks(ind + width / 2, ('Product ID 1', 'Product ID 2', 'Product ID 3', 'Product ID 4', 'Product ID 5'))\n",
    "\n",
    "# Finding the best position for legends and putting it\n",
    "plt.legend(loc='best')\n",
    "plt.show()\n"
   ]
  },
  {
   "cell_type": "code",
   "execution_count": 20,
   "metadata": {},
   "outputs": [
    {
     "data": {
      "image/png": "[encoded data removed]",
      "text/plain": [
       "<Figure size 1000x500 with 1 Axes>"
      ]
     },
     "metadata": {},
     "output_type": "display_data"
    }
   ],
   "source": [
    "# Numbers of pairs of bars you want\n",
    "N = 5\n",
    "\n",
    "# Data on X-axis\n",
    "\n",
    "# Specify the values of blue bars (height)\n",
    "HDP_mem = (787.47, 742.45 , 792.566, 774.56, 786.12)\n",
    "# Specify the values of orange bars (height)\n",
    "PY_mem = (14.58, 14.37, 14.62, 14.66, 14.52)\n",
    "\n",
    "# Position of bars on x-axis\n",
    "ind = np.arange(N)\n",
    "\n",
    "# Figure size\n",
    "plt.figure(figsize=(10,5))\n",
    "\n",
    "# Width of a bar \n",
    "width = 0.3       \n",
    "\n",
    "# Plotting\n",
    "plt.bar(ind, HDP_mem , width, label='Hadoop Memory Usage')\n",
    "plt.bar(ind + width, PY_mem, width, label='Pyhton Memory Usage')\n",
    "\n",
    "plt.xlabel('Memory Usage')\n",
    "plt.ylabel('Product IDs')\n",
    "plt.title('Here goes title of the plot')\n",
    "\n",
    "# xticks()\n",
    "# First argument - A list of positions at which ticks should be placed\n",
    "# Second argument -  A list of labels to place at the given locations\n",
    "plt.xticks(ind + width / 2, ('Product ID 1', 'Product ID 2', 'Product ID 3', 'Product ID 4', 'Product ID 5'))\n",
    "\n",
    "# Finding the best position for legends and putting it\n",
    "plt.legend(loc='best')\n",
    "plt.show()\n"
   ]
  },
  {
   "cell_type": "code",
   "execution_count": null,
   "metadata": {},
   "outputs": [],
   "source": []
  }
 ],
 "metadata": {
  "kernelspec": {
   "display_name": "Python 3 (ipykernel)",
   "language": "python",
   "name": "python3"
  },
  "language_info": {
   "codemirror_mode": {
    "name": "ipython",
    "version": 3
   },
   "file_extension": ".py",
   "mimetype": "text/x-python",
   "name": "python",
   "nbconvert_exporter": "python",
   "pygments_lexer": "ipython3",
   "version": "3.11.0"
  }
 },
 "nbformat": 4,
 "nbformat_minor": 2
}
